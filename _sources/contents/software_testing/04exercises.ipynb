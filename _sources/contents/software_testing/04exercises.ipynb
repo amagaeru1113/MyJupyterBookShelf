{
  "nbformat": 4,
  "nbformat_minor": 0,
  "metadata": {
    "colab": {
      "name": "Untitled2.ipynb",
      "provenance": []
    },
    "kernelspec": {
      "name": "python3",
      "display_name": "Python 3"
    }
  },
  "cells": [
    {
      "cell_type": "code",
      "metadata": {
        "id": "JQVhKHpuhojX"
      },
      "source": [
        "x = 1\n",
        "print(x)"
      ],
      "execution_count": null,
      "outputs": []
    }
  ]
}