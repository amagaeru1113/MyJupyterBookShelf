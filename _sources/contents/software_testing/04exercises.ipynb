{
  "nbformat": 4,
  "nbformat_minor": 0,
  "metadata": {
    "colab": {
      "name": "Untitled2.ipynb",
      "provenance": []
    },
    "kernelspec": {
      "name": "python3",
      "display_name": "Python 3"
    }
  },
  "cells": [
    {
      "cell_type": "code",
      "metadata": {
        "id": "JQVhKHpuhojX"
      },
      "source": [
        "%%file software_testing/sample/sample.py\n",
        "\n",
        "x = 1\n",
        "print(x)"
      ],
      "execution_count": 1,
      "outputs": [
        {
          "output_type": "stream",
          "name": "stdout",
          "text": [
            "1\n"
          ]
        }
      ]
    },
    {
      "cell_type": "code",
      "execution_count": null,
      "metadata": {},
      "outputs": [],
      "source": [
        "%%file software_testing/sample/sample.py\n",
        "\n",
        "def func1(x: int) -> str:\n",
        "    if x == 3:\n",
        "        return '3'\n",
        "    elif x == 5:\n",
        "        return '5'\n",
        "    else:\n",
        "        return 'none'"
      ]
    },
    {
      "cell_type": "code",
      "execution_count": null,
      "metadata": {},
      "outputs": [],
      "source": [
        "%%file software_testing/03/sample_func1_test.py\n",
        "\n",
        "import random\n",
        "from sample_func1 import func1\n",
        "\n",
        "def test_func1_n3():\n",
        "    assert '3' == func1(3)\n",
        "\n",
        "def test_func1_n5():\n",
        "    assert '5' == func1(5)\n",
        "\n",
        "def test_func1_na():\n",
        "    l = list(range(100))\n",
        "    l.remove(3)\n",
        "    l.remove(5)\n",
        "    num = random.choice(l)\n",
        "    assert 'none' == func1(num)"
      ]
    },
    {
      "cell_type": "code",
      "execution_count": null,
      "metadata": {},
      "outputs": [],
      "source": [
        "!poetry run python -m pytest software_testing/03/sample_func1_test.py"
      ]
    }
  ]
}