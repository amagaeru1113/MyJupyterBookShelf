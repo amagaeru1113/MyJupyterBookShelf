{
 "cells": [
  {
   "cell_type": "markdown",
   "metadata": {},
   "source": [
    "# 04. 演習（同値クラステスト、境界値テスト）\n",
    "\n",
    "考え方の定着を目的として、演習問題を作って回答してみます。\n",
    "また、可能であればpytestを用いてコードの実装を行います。\n",
    "\n",
    "今回は初めに節の中で使用した例についてpytestでテストを書く練習をします。\n",
    "その後に演習問題を作り、回答します。\n"
   ]
  },
  {
   "cell_type": "markdown",
   "metadata": {},
   "source": [
    "## 同値クラステスト（同値分割/equivalence partitioning)"
   ]
  },
  {
   "cell_type": "markdown",
   "metadata": {},
   "source": [
    "### 例"
   ]
  },
  {
   "cell_type": "code",
   "execution_count": null,
   "metadata": {},
   "outputs": [],
   "source": [
    "!pip install pytest"
   ]
  },
  {
   "cell_type": "code",
   "execution_count": 1,
   "metadata": {},
   "outputs": [],
   "source": [
    "# %%file software_testing/03/sample_func1.py\n",
    "\n",
    "# def func1(x: int) -> str:    \n",
    "#     if x == 3:\n",
    "#         return '3'\n",
    "#     elif x == 5:\n",
    "#         return '5'\n",
    "#     else:\n",
    "#         return 'none'"
   ]
  },
  {
   "cell_type": "code",
   "execution_count": 2,
   "metadata": {},
   "outputs": [],
   "source": [
    "# %%file software_testing/03/sample_func1_test.py\n",
    "\n",
    "# import random\n",
    "\n",
    "# from sample_func1 import func1\n",
    "\n",
    "# def test_func1_n3():\n",
    "#     assert '3' == func1(3)\n",
    "\n",
    "# def test_func1_n5():\n",
    "#     assert '5' == func1(5)\n",
    "    \n",
    "# def test_func1_na():\n",
    "#     l = list(range(100))\n",
    "#     l.remove(3)\n",
    "#     l.remove(5)\n",
    "    \n",
    "#     num = random.choice(l)\n",
    "#     assert 'none' == func1(num)"
   ]
  },
  {
   "cell_type": "code",
   "execution_count": 3,
   "metadata": {},
   "outputs": [],
   "source": [
    "# !poetry run python -m pytest software_testing/03/sample_func1_test.py"
   ]
  },
  {
   "cell_type": "markdown",
   "metadata": {},
   "source": [
    "## 境界値テスト（境界値分析/限界値分析/boundary value analysis)"
   ]
  },
  {
   "cell_type": "markdown",
   "metadata": {},
   "source": [
    "### 例"
   ]
  },
  {
   "cell_type": "code",
   "execution_count": 4,
   "metadata": {},
   "outputs": [],
   "source": [
    "# %%file software_testing/03/sample_func2.py\n",
    "\n",
    "# def func2(x: int) -> str:    \n",
    "#     if x <= 2:\n",
    "#         return '2 ika'\n",
    "#     elif x >= 7:\n",
    "#         return '7 ijo'\n",
    "#     else:\n",
    "#         return 'none'"
   ]
  },
  {
   "cell_type": "code",
   "execution_count": 5,
   "metadata": {},
   "outputs": [],
   "source": [
    "# %%file software_testing/03/sample_func2_test.py\n",
    "\n",
    "# import random\n",
    "\n",
    "# from sample_func2 import func2\n",
    "\n",
    "# def test_func2_1():\n",
    "#     assert '2 ika' == func2(1)\n",
    "\n",
    "# def test_func2_2():\n",
    "#     assert '2 ika' == func2(2)\n",
    "    \n",
    "# def test_func2_3():\n",
    "#     assert 'none' == func2(3)\n",
    "    \n",
    "# def test_func2_6():\n",
    "#     assert 'none' == func2(6)\n",
    "    \n",
    "# def test_func2_7():\n",
    "#     assert '7 ijo' == func2(7)\n",
    "    \n",
    "# def test_func2_8():\n",
    "#     assert '7 ijo' == func2(8)\n"
   ]
  },
  {
   "cell_type": "code",
   "execution_count": 6,
   "metadata": {},
   "outputs": [],
   "source": [
    "# !python -m pytest software_testing/03/sample_func2_test.py"
   ]
  },
  {
   "cell_type": "markdown",
   "metadata": {},
   "source": [
    "## 演習問題"
   ]
  },
  {
   "cell_type": "markdown",
   "metadata": {},
   "source": [
    "### 1.　喫茶店での注文\n",
    "\n",
    "喫茶店でセットA、B、Cのうちどれかを選びます。\n",
    "注文に応じて料金を出力するシステムをテストします。\n",
    "\n",
    "- セットA: 300円\n",
    "- セットB: 500円\n",
    "- セットC: 800円\n",
    "\n",
    "上記のシステムのテストケースを考えます。\n",
    "また、取り扱いしていないメニューについては0円を出力します。\n",
    "\n",
    "\n",
    "同値クラスは3つです。（A,B,C）\n",
    "ここでクラスを数値(A -> 0, B -> 1, C -> 2)に置き換えます。\n",
    "必要なテストケースは以下が考えられます。\n",
    "  \n",
    "- x: 注文されたセット(A -> 0, B -> 1, C -> 2)\n",
    "- x = 'セットA' -> 300 \n",
    "- x = 'セットB' -> 500\n",
    "- x = 'セットC' -> 800\n",
    "- x = 'セットD' -> 0\n",
    "\n",
    "より、 x = ['セットA','セットB','セットC', 'セットD']\n",
    "期待される出力は[300, 500, 800 0]です。"
   ]
  },
  {
   "cell_type": "code",
   "execution_count": 7,
   "metadata": {},
   "outputs": [],
   "source": [
    "# %%file software_testing/03/exercises_1.py\n",
    "\n",
    "# def func_exe(order: str) -> int:\n",
    "\n",
    "#     if order == 'セットA':\n",
    "#         return 300\n",
    "#     elif order == 'セットB':\n",
    "#         return 500\n",
    "#     elif order == 'セットC':\n",
    "#         return 800\n",
    "#     else:\n",
    "#         return 0"
   ]
  },
  {
   "cell_type": "code",
   "execution_count": 8,
   "metadata": {},
   "outputs": [],
   "source": [
    "# %%file software_testing/03/exercises_1_test.py\n",
    "\n",
    "# from exercises_1 import func_exe\n",
    "\n",
    "# def test_exercises_1():\n",
    "#     assert 300 == func_exe('セットA')\n",
    "\n",
    "# def test_exercises_2():\n",
    "#     assert 500 == func_exe('セットB')\n",
    "\n",
    "# def test_exercises_3():\n",
    "#     assert 800 == func_exe('セットC')\n",
    "    \n",
    "# def test_exercises_4():\n",
    "#     assert 0 == func_exe('セットD')"
   ]
  },
  {
   "cell_type": "code",
   "execution_count": 9,
   "metadata": {},
   "outputs": [],
   "source": [
    "# !python -m pytest software_testing/03/exercises_1_test.py"
   ]
  },
  {
   "cell_type": "markdown",
   "metadata": {},
   "source": [
    "### 2. 大食いチャレンジ\n",
    "\n",
    "お寿司の大食いチャレンジの結果に応じて賞金を出力する条件分岐をテストします。\n",
    "    - 20皿以上食べた人には賞金2000円\n",
    "    - 40皿以上食べた人には賞金5000円\n",
    "皿の枚数に応じて賞金を出力するシステムのテストケースを考えましょう。\n",
    "\n",
    "\n",
    "同値クラスは2つです。（0円、2000円、5000円）\n",
    "境界値は2つ（20皿、40皿）なので、必要なテストケースの例は次の物が考えられます。\n",
    "    \n",
    "- x : 皿の枚数\n",
    "- x < 20 -> 0円\n",
    "- x >= 20 -> 2000円\n",
    "- x >= 40 -> 5000円\n",
    "\n",
    "より、x = [19, 20, 21, 39, 40, 41]\n",
    "期待される出力は[0, 2000,2000, 2000, 5000,5000]です。"
   ]
  },
  {
   "cell_type": "code",
   "execution_count": 10,
   "metadata": {},
   "outputs": [],
   "source": [
    "# %%file software_testing/03/exercises_2.py\n",
    "\n",
    "# def func_exe(dishes: int) -> int:  \n",
    "\n",
    "#     if 20 <= dishes < 40:\n",
    "#         return 2000\n",
    "#     elif dishes >= 40:\n",
    "#         return 5000\n",
    "#     else:\n",
    "#         return 0"
   ]
  },
  {
   "cell_type": "code",
   "execution_count": 11,
   "metadata": {},
   "outputs": [],
   "source": [
    "# %%file software_testing/03/exercises_2_test.py\n",
    "\n",
    "# from exercises_2 import func_exe\n",
    "\n",
    "# def test_exercises_1():\n",
    "#     assert 0 == func_exe(19)\n",
    "\n",
    "# def test_exercises_2():\n",
    "#     assert 2000 == func_exe(20)\n",
    "    \n",
    "# def test_exercises_3():\n",
    "#     assert 2000 == func_exe(21)\n",
    "    \n",
    "# def test_exercises_4():\n",
    "#     assert 2000 == func_exe(39)\n",
    "\n",
    "# def test_exercises_5():\n",
    "#     assert 5000 == func_exe(40)\n",
    "    \n",
    "# def test_exercises_5():\n",
    "#     assert 5000 == func_exe(41)\n"
   ]
  },
  {
   "cell_type": "code",
   "execution_count": 12,
   "metadata": {},
   "outputs": [],
   "source": [
    "# !python -m pytest software_testing/03/exercises_2_test.py "
   ]
  }
 ],
 "metadata": {
  "kernelspec": {
   "display_name": "Python 3.7.5 64-bit ('3.7.5': pyenv)",
   "language": "python",
   "name": "python37564bit375pyenva7ba0993404d4e8f9a8d177ae4693875"
  },
  "language_info": {
   "codemirror_mode": {
    "name": "ipython",
    "version": 3
   },
   "file_extension": ".py",
   "mimetype": "text/x-python",
   "name": "python",
   "nbconvert_exporter": "python",
   "pygments_lexer": "ipython3",
   "version": "3.7.5-final"
  }
 },
 "nbformat": 4,
 "nbformat_minor": 4
}