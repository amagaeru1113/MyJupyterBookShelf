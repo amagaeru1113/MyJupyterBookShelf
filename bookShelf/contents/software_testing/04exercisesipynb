{
 "cells": [
  {
   "cell_type": "markdown",
   "metadata": {},
   "source": [
    "# 04. 演習（同値クラステスト、境界値テスト）\n",
    "\n",
    "考え方の定着を目的として、演習問題を作って回答してみます。\n",
    "また、可能であればpytestを用いてコードの実装を行います。\n",
    "\n",
    "今回は初めに節の中で使用した例についてpytestでテストを書く練習をします。\n",
    "その後に演習問題を作り、回答します。\n"
   ]
  },
  {
   "cell_type": "markdown",
   "metadata": {},
   "source": [
    "## 同値クラステスト（同値分割/equivalence partitioning)"
   ]
  },
  {
   "cell_type": "markdown",
   "metadata": {},
   "source": [
    "### 例"
   ]
  },
  {
   "cell_type": "code",
   "execution_count": null,
   "metadata": {},
   "outputs": [],
   "source": [
    "x = 1\n",
    "print(x)"
   ]
  }
 ],
 "metadata": {
  "kernelspec": {
   "display_name": "Python 3.7.5 64-bit ('3.7.5': pyenv)",
   "language": "python",
   "name": "python37564bit375pyenva7ba0993404d4e8f9a8d177ae4693875"
  },
  "language_info": {
   "codemirror_mode": {
    "name": "ipython",
    "version": 3
   },
   "file_extension": ".py",
   "mimetype": "text/x-python",
   "name": "python",
   "nbconvert_exporter": "python",
   "pygments_lexer": "ipython3",
   "version": "3.7.5-final"
  }
 },
 "nbformat": 4,
 "nbformat_minor": 4
}