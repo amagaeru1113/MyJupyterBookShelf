{
 "cells": [
  {
   "cell_type": "markdown",
   "metadata": {
    "colab_type": "text",
    "id": "d3bRwSwmm_sj"
   },
   "source": [
    "# GINZAとは\n",
    "\n",
    "「GINZA」とは、リクルートと国立国語研究所の共同研究によって2019年4月に公開されたPython向け日本語自然言語処理ライブラリです。\n",
    "\n",
    "\n",
    "これまでの自然言語処理ライブラリは独立した機能の物が多く、例えば[「MeCab」](http://mecab.sourceforge.net/)や[「Janome」](https://mocobeta.github.io/janome/)、[「Juman」](http://nlp.ist.i.kyoto-u.ac.jp/index.php?%E6%97%A5%E6%9C%AC%E8%AA%9E%E5%BD%A2%E6%85%8B%E7%B4%A0%E8%A7%A3%E6%9E%90%E3%82%B7%E3%82%B9%E3%83%86%E3%83%A0JUMAN)等は形態素解析、[「CaboCha」](http://code.google.com/p/cabocha/)や[「KNP」](http://nlp.ist.i.kyoto-u.ac.jp/index.php?%E6%97%A5%E6%9C%AC%E8%AA%9E%E6%A7%8B%E6%96%87%E8%A7%A3%E6%9E%90%E3%82%B7%E3%82%B9%E3%83%86%E3%83%A0KNP)等は係り受け解析を担うなど、応用を目指すにはこれらを組み合わせる専門知識とエンジニアリングが必要でした。\n",
    "\n",
    "そこで形態素解析、係り受け解析などを標準で扱えるライブラリとしてGINZAが登場しました。\n",
    "\n",
    "---\n",
    "\n",
    "## GINZAの概要と特徴\n",
    "\n",
    ">「GiNZA」は、最先端の機械学習技術を取り入れた自然言語処理ライブラリ「spaCy」をフレームワークとして利用しており、また、オープンソース形態素解析器「SudachiPy」を内部に組み込み、トークン化処理に利用している。「GiNZA日本語UDモデル」にはMegagon Labsと国立国語研究所の共同研究成果が組み込まれています\n",
    "\n",
    "またGINZAの特徴は以下の通りです。\n",
    "\n",
    ">1.高度な自然言語処理をワンステップで導入完了\n",
    ">これまで、高度な自然言語処理を行うためには複雑な導入作業が必要でしたが、「GiNZA」はワンステップでモジュールとモデルファイルの導入を完了できます。これにより、エンジニアは即座に解析が可能です。\n",
    "> \n",
    ">2.高速・高精度な解析処理と依存構造解析レベルの国際化に対応\n",
    ">産業用途で自然言語処理技術を活用するには、一定の処理速度を保ちながら解析精度を高めるためにチューニングを行うことが一般的です。「GiNZA」は、「spaCy」が提供する高速・高精度な依存構造解析器を使用して、産業用途に耐える性能を備えた高度な自然言語処理機能をライブラリとして提供します。同時に、「spaCy」の国際化機能により、複数の欧米言語と日本語の言語リソースを切り替えて使用することが可能となり、エンジニアは複数言語の解析を単一のライブラリで行うことができます。\n",
    "> \n",
    ">3.国立国語研究所との共同研究成果の学習モデルを提供\n",
    "自然言語処理系の学会を中心に、人類が用いる多様な言語を、一貫した構文構造・品詞体系で解析可能にする>「Universal Dependencies」の取組みが、2014年から全世界で始まっています。日本においても当初からUDの日本語への適用に関する研究と日本語版UDコーパス（データ）構築が同時に進められてきました。Megagon Labsは、国立国語研究所と共同で、日本語版UDに基づいた高精度な依存構造解析技術の研究を行い、その成果である学習済みモデルを「GiNZA日本語UDモデル」に組み込みました。\n",
    "「GiNZA日本語UDモデル」は、国立国語研究所が長年の研究を通じて蓄積してきた大規模かつ高品質なテキストコーパスに加えて、日本語Wikipediaテキストも同時に用いて機械学習に適用することで、幅広い分野に適応可能なモデルを構築しています。\n",
    "\n",
    "つまりはこれまで自然言語処理を始めるには機能独立したライブラリそれぞれを準備する必要がありましたが、「GINZA」を準備するだけで始める準備が終わることになります。\n",
    "\n",
    "引用元[リクルートのAI研究機関、国立国語研究所との共同研究成果を用いた日本語の自然言語処理ライブラリ「GiNZA」を公開](https://www.recruit.co.jp/newsroom/2019/0402_18331.html)\n"
   ]
  },
  {
   "cell_type": "markdown",
   "metadata": {
    "colab_type": "text",
    "id": "54q6JxESuR7Q"
   },
   "source": [
    "### spaCyとは\n",
    "「GINZA」が使用している「spaCy」は、Pythonで高度な自然言語処理(NLP)を行うためのフリーのオープンソースライブラリです。最新の研究を元に各機能は作られており、産業製品用途に耐えうるように特別に設計されています。この点が教育や研究用途のNLTKやCoreNLPのようなライブラリとは異なります。しかし、spaCyができることは数多く、情報抽出や自然言語理解システムの構築、またはDNNの前処理などに役立ちます。\n",
    "\n",
    "---\n",
    "\n",
    "### spaCyの機能\n",
    "spaCyの機能についてまとめた表を示します。\n",
    "\n",
    "処理 | 説明\n",
    "--- | ---\n",
    "トークン化 | テキストを単語や句読点などに分割します。\n",
    "品詞（POS: Part-of-speech）タグ付け | 動詞や名詞などのトークンに単語タイプを割り当てます。\n",
    "依存関係の解析 | 主語や目的語のように、個々のトークン間の関係を記述する構文依存性ラベルを割り当てます。\n",
    "語の見出し語化(Lemmatization) | 単語の基本形を割り当てる。例えば、\"was \"の見出しは \"be \"であり、\"rats \"の見出しは \"rat \"である。\n",
    "文境界検出 (SBD:Sentence Boundary Detection) | 個々の文を見つけてセグメント化します。\n",
    "固有表現抽出(NER:Named Entity Recognition ) | 人、会社、場所など、名前のついた「実世界」のオブジェクトをラベリングします。\n",
    "エンティティリンク (EL:Entity Linking)  | テキストのエンティティを、知識ベース内の一意の識別子と区別します。\n",
    "類似性(Similarity) | 単語、テキストスパン、ドキュメントを比較し、それらが互いにどの程度似ているかを比較します。\n",
    "テキスト分類 | 文書全体または文書の一部にカテゴリやラベルを割り当てます。\n",
    "ルールベースのマッチング | 正規表現に似た、テキストと言語的注釈に基づいて、トークンのシーケンスを見つけます。\n",
    "トレーニング | 統計モデルの予測を更新したり、改善したりすること。\n",
    "シリアライゼーション | オブジェクトをファイルやバイト文字列に保存します。\n",
    "\n",
    "上記の処理機能の一部は独立して使用可能ですが、その他は言語アノテーションを予測するための統計モデルをロードする必要があります。統計モデルには、通常、以下のコンポーネントが含まれています。\n",
    "\n",
    "コンポーネント　|　説明\n",
    "--- | ---\n",
    "品詞タグ付けのためのバイナリ重み | 依存性パーサ、および文脈でのアノテーションを予測するための名前付きエンティティ認識器に使用\n",
    "語彙エントリ | 単語とその形やスペルなどの文脈に依存しない属性。\n",
    "データファイル | 見出し語化ルールやルックアップテーブルなど。\n",
    "単語ベクトル　 | 単語の多次元的な意味表現で、単語同士の類似度を判断する。\n",
    "コンフィグレーション | 言語や処理パイプラインの設定のような設定オプション\n",
    "\n",
    "以降はコードと共に機能について見ていきます。\n",
    "\n",
    "\n",
    "## Ref\n",
    "- [自然言語処理ライブラリ一覧](http://www.phontron.com/nlptools.php?lang=ja)\n",
    "\n",
    "- [GiNZA - Japanese NLP Library](https://megagonlabs.github.io/ginza/)\n",
    "\n",
    "- [日本語ライブラリGINZAのススメ](https://qiita.com/poyo46/items/7a4965455a8a2b2d2971)\n",
    "\n",
    "- [自然言語処理ライブラリGiNZAをインストールして簡単に動かすまでの手順](https://www.virment.com/how-to-install-ginza-and-use/)\n",
    "\n",
    "- [spaCyとGiNZAを用いた言語処理](https://www.koi.mashykom.com/spacy_ginza.html)\n",
    "\n",
    "- [正規表現・自然言語処理](https://petitviolet.hatenablog.com/entry/20120523/1337760714)\n",
    "\n",
    "\n",
    "- [spacy](https://spacy.io/usage/spacy-101)\n",
    "- [spacy翻訳](https://note.com/npaka/n/nc608b9392300?magazine_key=m9a7d32c95ad9)\n",
    "\n"
   ]
  },
  {
   "cell_type": "code",
   "execution_count": 1,
   "metadata": {
    "colab": {
     "base_uri": "https://localhost:8080/",
     "height": 476
    },
    "colab_type": "code",
    "id": "RrzC7BTY5YAd",
    "outputId": "e27c79dc-6664-4321-bbc8-a2f31925528f"
   },
   "outputs": [
    {
     "name": "stdout",
     "output_type": "stream",
     "text": [
      "Requirement already satisfied: ginza in /Users/apple/Documents/github/MyJupyterBookShelf/.venv/lib/python3.7/site-packages (4.0.5)\r\n",
      "Requirement already satisfied: SudachiDict-core>=20200330; python_version >= \"3.5\" in /Users/apple/Documents/github/MyJupyterBookShelf/.venv/lib/python3.7/site-packages (from ginza) (20200722)\r\n",
      "Requirement already satisfied: SudachiPy>=0.4.9; python_version >= \"3.5\" in /Users/apple/Documents/github/MyJupyterBookShelf/.venv/lib/python3.7/site-packages (from ginza) (0.4.9)\r\n",
      "Requirement already satisfied: spacy<3.0.0,>=2.3.2 in /Users/apple/Documents/github/MyJupyterBookShelf/.venv/lib/python3.7/site-packages (from ginza) (2.3.2)\r\n"
     ]
    },
    {
     "name": "stdout",
     "output_type": "stream",
     "text": [
      "Requirement already satisfied: ja-ginza<4.1.0,>=4.0.0 in /Users/apple/Documents/github/MyJupyterBookShelf/.venv/lib/python3.7/site-packages (from ginza) (4.0.0)\r\n",
      "Requirement already satisfied: sortedcontainers~=2.1.0 in /Users/apple/Documents/github/MyJupyterBookShelf/.venv/lib/python3.7/site-packages (from SudachiPy>=0.4.9; python_version >= \"3.5\"->ginza) (2.1.0)\r\n",
      "Requirement already satisfied: dartsclone~=0.9.0 in /Users/apple/Documents/github/MyJupyterBookShelf/.venv/lib/python3.7/site-packages (from SudachiPy>=0.4.9; python_version >= \"3.5\"->ginza) (0.9.0)\r\n",
      "Requirement already satisfied: cymem<2.1.0,>=2.0.2 in /Users/apple/Documents/github/MyJupyterBookShelf/.venv/lib/python3.7/site-packages (from spacy<3.0.0,>=2.3.2->ginza) (2.0.3)\r\n",
      "Requirement already satisfied: requests<3.0.0,>=2.13.0 in /Users/apple/Documents/github/MyJupyterBookShelf/.venv/lib/python3.7/site-packages (from spacy<3.0.0,>=2.3.2->ginza) (2.24.0)\r\n",
      "Requirement already satisfied: catalogue<1.1.0,>=0.0.7 in /Users/apple/Documents/github/MyJupyterBookShelf/.venv/lib/python3.7/site-packages (from spacy<3.0.0,>=2.3.2->ginza) (1.0.0)\r\n",
      "Requirement already satisfied: blis<0.5.0,>=0.4.0 in /Users/apple/Documents/github/MyJupyterBookShelf/.venv/lib/python3.7/site-packages (from spacy<3.0.0,>=2.3.2->ginza) (0.4.1)\r\n",
      "Requirement already satisfied: murmurhash<1.1.0,>=0.28.0 in /Users/apple/Documents/github/MyJupyterBookShelf/.venv/lib/python3.7/site-packages (from spacy<3.0.0,>=2.3.2->ginza) (1.0.2)\r\n",
      "Requirement already satisfied: preshed<3.1.0,>=3.0.2 in /Users/apple/Documents/github/MyJupyterBookShelf/.venv/lib/python3.7/site-packages (from spacy<3.0.0,>=2.3.2->ginza) (3.0.2)\r\n",
      "Requirement already satisfied: srsly<1.1.0,>=1.0.2 in /Users/apple/Documents/github/MyJupyterBookShelf/.venv/lib/python3.7/site-packages (from spacy<3.0.0,>=2.3.2->ginza) (1.0.2)\r\n",
      "Requirement already satisfied: tqdm<5.0.0,>=4.38.0 in /Users/apple/Documents/github/MyJupyterBookShelf/.venv/lib/python3.7/site-packages (from spacy<3.0.0,>=2.3.2->ginza) (4.50.2)\r\n",
      "Requirement already satisfied: setuptools in /Users/apple/Documents/github/MyJupyterBookShelf/.venv/lib/python3.7/site-packages (from spacy<3.0.0,>=2.3.2->ginza) (41.2.0)\r\n",
      "Requirement already satisfied: plac<1.2.0,>=0.9.6 in /Users/apple/Documents/github/MyJupyterBookShelf/.venv/lib/python3.7/site-packages (from spacy<3.0.0,>=2.3.2->ginza) (1.1.3)\r\n",
      "Requirement already satisfied: thinc==7.4.1 in /Users/apple/Documents/github/MyJupyterBookShelf/.venv/lib/python3.7/site-packages (from spacy<3.0.0,>=2.3.2->ginza) (7.4.1)\r\n"
     ]
    },
    {
     "name": "stdout",
     "output_type": "stream",
     "text": [
      "Requirement already satisfied: numpy>=1.15.0 in /Users/apple/Documents/github/MyJupyterBookShelf/.venv/lib/python3.7/site-packages (from spacy<3.0.0,>=2.3.2->ginza) (1.19.2)\r\n",
      "Requirement already satisfied: wasabi<1.1.0,>=0.4.0 in /Users/apple/Documents/github/MyJupyterBookShelf/.venv/lib/python3.7/site-packages (from spacy<3.0.0,>=2.3.2->ginza) (0.8.0)\r\n",
      "Requirement already satisfied: Cython in /Users/apple/Documents/github/MyJupyterBookShelf/.venv/lib/python3.7/site-packages (from dartsclone~=0.9.0->SudachiPy>=0.4.9; python_version >= \"3.5\"->ginza) (0.29.21)\r\n",
      "Requirement already satisfied: certifi>=2017.4.17 in /Users/apple/Documents/github/MyJupyterBookShelf/.venv/lib/python3.7/site-packages (from requests<3.0.0,>=2.13.0->spacy<3.0.0,>=2.3.2->ginza) (2020.6.20)\r\n",
      "Requirement already satisfied: idna<3,>=2.5 in /Users/apple/Documents/github/MyJupyterBookShelf/.venv/lib/python3.7/site-packages (from requests<3.0.0,>=2.13.0->spacy<3.0.0,>=2.3.2->ginza) (2.10)\r\n",
      "Requirement already satisfied: urllib3!=1.25.0,!=1.25.1,<1.26,>=1.21.1 in /Users/apple/Documents/github/MyJupyterBookShelf/.venv/lib/python3.7/site-packages (from requests<3.0.0,>=2.13.0->spacy<3.0.0,>=2.3.2->ginza) (1.25.10)\r\n",
      "Requirement already satisfied: chardet<4,>=3.0.2 in /Users/apple/Documents/github/MyJupyterBookShelf/.venv/lib/python3.7/site-packages (from requests<3.0.0,>=2.13.0->spacy<3.0.0,>=2.3.2->ginza) (3.0.4)\r\n"
     ]
    },
    {
     "name": "stdout",
     "output_type": "stream",
     "text": [
      "Requirement already satisfied: importlib-metadata>=0.20; python_version < \"3.8\" in /Users/apple/Documents/github/MyJupyterBookShelf/.venv/lib/python3.7/site-packages (from catalogue<1.1.0,>=0.0.7->spacy<3.0.0,>=2.3.2->ginza) (2.0.0)\r\n",
      "Requirement already satisfied: zipp>=0.5 in /Users/apple/Documents/github/MyJupyterBookShelf/.venv/lib/python3.7/site-packages (from importlib-metadata>=0.20; python_version < \"3.8\"->catalogue<1.1.0,>=0.0.7->spacy<3.0.0,>=2.3.2->ginza) (3.3.0)\r\n"
     ]
    },
    {
     "name": "stdout",
     "output_type": "stream",
     "text": [
      "\u001b[33mWARNING: You are using pip version 19.2.3, however version 20.2.3 is available.\r\n",
      "You should consider upgrading via the 'pip install --upgrade pip' command.\u001b[0m\r\n"
     ]
    }
   ],
   "source": [
    "!pip install ginza"
   ]
  },
  {
   "cell_type": "code",
   "execution_count": 2,
   "metadata": {
    "colab": {
     "base_uri": "https://localhost:8080/",
     "height": 170
    },
    "colab_type": "code",
    "id": "SPxS8s5r3xF4",
    "outputId": "077e1291-0089-4910-91ca-48f1455a52c6"
   },
   "outputs": [
    {
     "name": "stdout",
     "output_type": "stream",
     "text": [
      "銀座 PROPN obl\n",
      "で ADP case\n",
      "ランチ NOUN obj\n",
      "を ADP case\n",
      "ご NOUN compound\n",
      "一緒 VERB ROOT\n",
      "し AUX advcl\n",
      "ましょう AUX aux\n",
      "。 PUNCT punct\n"
     ]
    }
   ],
   "source": [
    "from ginza import *\n",
    "import spacy\n",
    "\n",
    "nlp = spacy.load(\"ja_ginza\")  # GiNZAモデルの読み込み\n",
    "doc = nlp('銀座でランチをご一緒しましょう。')\n",
    "\n",
    "for token in doc:\n",
    "    print(token.text, token.pos_, token.dep_)\n"
   ]
  },
  {
   "cell_type": "code",
   "execution_count": 3,
   "metadata": {
    "colab": {
     "base_uri": "https://localhost:8080/",
     "height": 1000
    },
    "colab_type": "code",
    "id": "PU8xpfjxm-Am",
    "outputId": "7be21e87-3798-402c-9318-925a5750080c"
   },
   "outputs": [
    {
     "name": "stdout",
     "output_type": "stream",
     "text": [
      "Requirement already satisfied: ginza in /Users/apple/Documents/github/MyJupyterBookShelf/.venv/lib/python3.7/site-packages (4.0.5)\r\n",
      "Requirement already satisfied: ja-ginza<4.1.0,>=4.0.0 in /Users/apple/Documents/github/MyJupyterBookShelf/.venv/lib/python3.7/site-packages (from ginza) (4.0.0)\r\n",
      "Requirement already satisfied: spacy<3.0.0,>=2.3.2 in /Users/apple/Documents/github/MyJupyterBookShelf/.venv/lib/python3.7/site-packages (from ginza) (2.3.2)\r\n",
      "Requirement already satisfied: SudachiPy>=0.4.9; python_version >= \"3.5\" in /Users/apple/Documents/github/MyJupyterBookShelf/.venv/lib/python3.7/site-packages (from ginza) (0.4.9)\r\n"
     ]
    },
    {
     "name": "stdout",
     "output_type": "stream",
     "text": [
      "Requirement already satisfied: SudachiDict-core>=20200330; python_version >= \"3.5\" in /Users/apple/Documents/github/MyJupyterBookShelf/.venv/lib/python3.7/site-packages (from ginza) (20200722)\r\n",
      "Requirement already satisfied: thinc==7.4.1 in /Users/apple/Documents/github/MyJupyterBookShelf/.venv/lib/python3.7/site-packages (from spacy<3.0.0,>=2.3.2->ginza) (7.4.1)\r\n",
      "Requirement already satisfied: murmurhash<1.1.0,>=0.28.0 in /Users/apple/Documents/github/MyJupyterBookShelf/.venv/lib/python3.7/site-packages (from spacy<3.0.0,>=2.3.2->ginza) (1.0.2)\r\n",
      "Requirement already satisfied: blis<0.5.0,>=0.4.0 in /Users/apple/Documents/github/MyJupyterBookShelf/.venv/lib/python3.7/site-packages (from spacy<3.0.0,>=2.3.2->ginza) (0.4.1)\r\n",
      "Requirement already satisfied: preshed<3.1.0,>=3.0.2 in /Users/apple/Documents/github/MyJupyterBookShelf/.venv/lib/python3.7/site-packages (from spacy<3.0.0,>=2.3.2->ginza) (3.0.2)\r\n",
      "Requirement already satisfied: srsly<1.1.0,>=1.0.2 in /Users/apple/Documents/github/MyJupyterBookShelf/.venv/lib/python3.7/site-packages (from spacy<3.0.0,>=2.3.2->ginza) (1.0.2)\r\n",
      "Requirement already satisfied: catalogue<1.1.0,>=0.0.7 in /Users/apple/Documents/github/MyJupyterBookShelf/.venv/lib/python3.7/site-packages (from spacy<3.0.0,>=2.3.2->ginza) (1.0.0)\r\n",
      "Requirement already satisfied: cymem<2.1.0,>=2.0.2 in /Users/apple/Documents/github/MyJupyterBookShelf/.venv/lib/python3.7/site-packages (from spacy<3.0.0,>=2.3.2->ginza) (2.0.3)\r\n",
      "Requirement already satisfied: numpy>=1.15.0 in /Users/apple/Documents/github/MyJupyterBookShelf/.venv/lib/python3.7/site-packages (from spacy<3.0.0,>=2.3.2->ginza) (1.19.2)\r\n",
      "Requirement already satisfied: requests<3.0.0,>=2.13.0 in /Users/apple/Documents/github/MyJupyterBookShelf/.venv/lib/python3.7/site-packages (from spacy<3.0.0,>=2.3.2->ginza) (2.24.0)\r\n"
     ]
    },
    {
     "name": "stdout",
     "output_type": "stream",
     "text": [
      "Requirement already satisfied: plac<1.2.0,>=0.9.6 in /Users/apple/Documents/github/MyJupyterBookShelf/.venv/lib/python3.7/site-packages (from spacy<3.0.0,>=2.3.2->ginza) (1.1.3)\r\n",
      "Requirement already satisfied: setuptools in /Users/apple/Documents/github/MyJupyterBookShelf/.venv/lib/python3.7/site-packages (from spacy<3.0.0,>=2.3.2->ginza) (41.2.0)\r\n",
      "Requirement already satisfied: wasabi<1.1.0,>=0.4.0 in /Users/apple/Documents/github/MyJupyterBookShelf/.venv/lib/python3.7/site-packages (from spacy<3.0.0,>=2.3.2->ginza) (0.8.0)\r\n",
      "Requirement already satisfied: tqdm<5.0.0,>=4.38.0 in /Users/apple/Documents/github/MyJupyterBookShelf/.venv/lib/python3.7/site-packages (from spacy<3.0.0,>=2.3.2->ginza) (4.50.2)\r\n",
      "Requirement already satisfied: sortedcontainers~=2.1.0 in /Users/apple/Documents/github/MyJupyterBookShelf/.venv/lib/python3.7/site-packages (from SudachiPy>=0.4.9; python_version >= \"3.5\"->ginza) (2.1.0)\r\n",
      "Requirement already satisfied: dartsclone~=0.9.0 in /Users/apple/Documents/github/MyJupyterBookShelf/.venv/lib/python3.7/site-packages (from SudachiPy>=0.4.9; python_version >= \"3.5\"->ginza) (0.9.0)\r\n",
      "Requirement already satisfied: importlib-metadata>=0.20; python_version < \"3.8\" in /Users/apple/Documents/github/MyJupyterBookShelf/.venv/lib/python3.7/site-packages (from catalogue<1.1.0,>=0.0.7->spacy<3.0.0,>=2.3.2->ginza) (2.0.0)\r\n",
      "Requirement already satisfied: idna<3,>=2.5 in /Users/apple/Documents/github/MyJupyterBookShelf/.venv/lib/python3.7/site-packages (from requests<3.0.0,>=2.13.0->spacy<3.0.0,>=2.3.2->ginza) (2.10)\r\n",
      "Requirement already satisfied: urllib3!=1.25.0,!=1.25.1,<1.26,>=1.21.1 in /Users/apple/Documents/github/MyJupyterBookShelf/.venv/lib/python3.7/site-packages (from requests<3.0.0,>=2.13.0->spacy<3.0.0,>=2.3.2->ginza) (1.25.10)\r\n"
     ]
    },
    {
     "name": "stdout",
     "output_type": "stream",
     "text": [
      "Requirement already satisfied: chardet<4,>=3.0.2 in /Users/apple/Documents/github/MyJupyterBookShelf/.venv/lib/python3.7/site-packages (from requests<3.0.0,>=2.13.0->spacy<3.0.0,>=2.3.2->ginza) (3.0.4)\r\n",
      "Requirement already satisfied: certifi>=2017.4.17 in /Users/apple/Documents/github/MyJupyterBookShelf/.venv/lib/python3.7/site-packages (from requests<3.0.0,>=2.13.0->spacy<3.0.0,>=2.3.2->ginza) (2020.6.20)\r\n",
      "Requirement already satisfied: Cython in /Users/apple/Documents/github/MyJupyterBookShelf/.venv/lib/python3.7/site-packages (from dartsclone~=0.9.0->SudachiPy>=0.4.9; python_version >= \"3.5\"->ginza) (0.29.21)\r\n",
      "Requirement already satisfied: zipp>=0.5 in /Users/apple/Documents/github/MyJupyterBookShelf/.venv/lib/python3.7/site-packages (from importlib-metadata>=0.20; python_version < \"3.8\"->catalogue<1.1.0,>=0.0.7->spacy<3.0.0,>=2.3.2->ginza) (3.3.0)\r\n"
     ]
    },
    {
     "name": "stdout",
     "output_type": "stream",
     "text": [
      "\u001b[33mWARNING: You are using pip version 19.2.3, however version 20.2.3 is available.\r\n",
      "You should consider upgrading via the 'pip install --upgrade pip' command.\u001b[0m\r\n"
     ]
    }
   ],
   "source": [
    "!pip install ginza"
   ]
  },
  {
   "cell_type": "code",
   "execution_count": null,
   "metadata": {
    "colab": {},
    "colab_type": "code",
    "id": "46PcGevvnCqH"
   },
   "outputs": [],
   "source": []
  }
 ],
 "metadata": {
  "colab": {
   "collapsed_sections": [],
   "name": "spaCy.ipynb",
   "provenance": []
  },
  "kernelspec": {
   "display_name": "Python 3",
   "name": "python3"
  },
  "language_info": {
   "codemirror_mode": {
    "name": "ipython",
    "version": 3
   },
   "file_extension": ".py",
   "mimetype": "text/x-python",
   "name": "python",
   "nbconvert_exporter": "python",
   "pygments_lexer": "ipython3",
   "version": "3.7.5"
  }
 },
 "nbformat": 4,
 "nbformat_minor": 0
}