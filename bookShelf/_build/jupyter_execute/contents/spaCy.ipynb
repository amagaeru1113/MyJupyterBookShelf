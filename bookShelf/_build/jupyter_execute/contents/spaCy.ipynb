{
 "cells": [
  {
   "cell_type": "markdown",
   "metadata": {
    "id": "r8b9n4TXsdL8"
   },
   "source": [
    "# GINZAとspaCy"
   ]
  },
  {
   "cell_type": "markdown",
   "metadata": {
    "id": "d3bRwSwmm_sj"
   },
   "source": [
    "## GINZAとは\n",
    "\n",
    "「GINZA」とは、リクルートと国立国語研究所の共同研究によって2019年4月に公開されたPython向け日本語自然言語処理ライブラリです。\n",
    "\n",
    "\n",
    "これまでの自然言語処理ライブラリは独立した機能の物が多く、例えば[「MeCab」](http://mecab.sourceforge.net/)や[「Janome」](https://mocobeta.github.io/janome/)、[「Juman」](http://nlp.ist.i.kyoto-u.ac.jp/index.php?%E6%97%A5%E6%9C%AC%E8%AA%9E%E5%BD%A2%E6%85%8B%E7%B4%A0%E8%A7%A3%E6%9E%90%E3%82%B7%E3%82%B9%E3%83%86%E3%83%A0JUMAN)等は形態素解析、[「CaboCha」](http://code.google.com/p/cabocha/)や[「KNP」](http://nlp.ist.i.kyoto-u.ac.jp/index.php?%E6%97%A5%E6%9C%AC%E8%AA%9E%E6%A7%8B%E6%96%87%E8%A7%A3%E6%9E%90%E3%82%B7%E3%82%B9%E3%83%86%E3%83%A0KNP)等は係り受け解析を担うなど、応用を目指すにはこれらを組み合わせる専門知識とエンジニアリングが必要でした。\n",
    "\n",
    "そこで形態素解析、係り受け解析などを標準で扱えるライブラリとしてGINZAが登場しました。"
   ]
  },
  {
   "cell_type": "markdown",
   "metadata": {
    "id": "EMSpCb2xsTOx"
   },
   "source": [
    "## GINZAの概要と特徴\n",
    "\n",
    ">「GiNZA」は、最先端の機械学習技術を取り入れた自然言語処理ライブラリ「spaCy」をフレームワークとして利用しており、また、オープンソース形態素解析器「SudachiPy」を内部に組み込み、トークン化処理に利用している。「GiNZA日本語UDモデル」にはMegagon Labsと国立国語研究所の共同研究成果が組み込まれています\n",
    "\n",
    "またGINZAの特徴は以下の通りです。\n",
    "\n",
    ">1.高度な自然言語処理をワンステップで導入完了\n",
    ">これまで、高度な自然言語処理を行うためには複雑な導入作業が必要でしたが、「GiNZA」はワンステップでモジュールとモデルファイルの導入を完了できます。これにより、エンジニアは即座に解析が可能です。\n",
    "> \n",
    ">2.高速・高精度な解析処理と依存構造解析レベルの国際化に対応\n",
    ">産業用途で自然言語処理技術を活用するには、一定の処理速度を保ちながら解析精度を高めるためにチューニングを行うことが一般的です。「GiNZA」は、「spaCy」が提供する高速・高精度な依存構造解析器を使用して、産業用途に耐える性能を備えた高度な自然言語処理機能をライブラリとして提供します。同時に、「spaCy」の国際化機能により、複数の欧米言語と日本語の言語リソースを切り替えて使用することが可能となり、エンジニアは複数言語の解析を単一のライブラリで行うことができます。\n",
    "> \n",
    ">3.国立国語研究所との共同研究成果の学習モデルを提供\n",
    "自然言語処理系の学会を中心に、人類が用いる多様な言語を、一貫した構文構造・品詞体系で解析可能にする>「Universal Dependencies」の取組みが、2014年から全世界で始まっています。日本においても当初からUDの日本語への適用に関する研究と日本語版UDコーパス（データ）構築が同時に進められてきました。Megagon Labsは、国立国語研究所と共同で、日本語版UDに基づいた高精度な依存構造解析技術の研究を行い、その成果である学習済みモデルを「GiNZA日本語UDモデル」に組み込みました。\n",
    "「GiNZA日本語UDモデル」は、国立国語研究所が長年の研究を通じて蓄積してきた大規模かつ高品質なテキストコーパスに加えて、日本語Wikipediaテキストも同時に用いて機械学習に適用することで、幅広い分野に適応可能なモデルを構築しています。\n",
    "\n",
    "つまりはこれまで自然言語処理を始めるには機能独立したライブラリそれぞれを準備する必要がありましたが、「GINZA」を準備するだけで始める準備が終わることになります。\n",
    "\n",
    "引用元[リクルートのAI研究機関、国立国語研究所との共同研究成果を用いた日本語の自然言語処理ライブラリ「GiNZA」を公開](https://www.recruit.co.jp/newsroom/2019/0402_18331.html)\n"
   ]
  },
  {
   "cell_type": "markdown",
   "metadata": {
    "id": "54q6JxESuR7Q"
   },
   "source": [
    "## spaCyとは\n",
    "「GINZA」が使用している「spaCy」は、Pythonで高度な自然言語処理(NLP)を行うためのフリーのオープンソースライブラリです。最新の研究を元に各機能は作られており、産業製品用途に耐えうるように特別に設計されています。この点が教育や研究用途のNLTKやCoreNLPのようなライブラリとは異なります。しかし、spaCyができることは数多く、情報抽出や自然言語理解システムの構築、またはDNNの前処理などに役立ちます。"
   ]
  },
  {
   "cell_type": "markdown",
   "metadata": {
    "id": "nf0LOQ3QsZr3"
   },
   "source": [
    "## spaCyの機能\n",
    "spaCyの機能についてまとめた表を示します。\n",
    "\n",
    "処理 | 説明\n",
    "--- | ---\n",
    "トークン化 | テキストを単語や句読点などに分割します。\n",
    "品詞（POS: Part-of-speech）タグ付け | 動詞や名詞などのトークンに単語タイプを割り当てます。\n",
    "依存関係の解析 | 主語や目的語のように、個々のトークン間の関係を記述する構文依存性ラベルを割り当てます。\n",
    "語の見出し語化(Lemmatization) | 単語の基本形を割り当てる。例えば、\"was \"の見出しは \"be \"であり、\"rats \"の見出しは \"rat \"である。\n",
    "文境界検出 (SBD:Sentence Boundary Detection) | 個々の文を見つけてセグメント化します。\n",
    "固有表現抽出(NER:Named Entity Recognition ) | 人、会社、場所など、名前のついた「実世界」のオブジェクトをラベリングします。\n",
    "エンティティリンク (EL:Entity Linking)  | テキストのエンティティを、知識ベース内の一意の識別子と区別します。\n",
    "類似性(Similarity) | 単語、テキストスパン、ドキュメントを比較し、それらが互いにどの程度似ているかを比較します。\n",
    "テキスト分類 | 文書全体または文書の一部にカテゴリやラベルを割り当てます。\n",
    "ルールベースのマッチング | 正規表現に似た、テキストと言語的注釈に基づいて、トークンのシーケンスを見つけます。\n",
    "トレーニング | 統計モデルの予測を更新したり、改善したりすること。\n",
    "シリアライゼーション | オブジェクトをファイルやバイト文字列に保存します。\n",
    "\n",
    "上記の処理機能の一部は独立して使用可能ですが、その他は言語アノテーションを予測するための統計モデルをロードする必要があります。統計モデルには、通常、以下のコンポーネントが含まれています。\n",
    "\n",
    "コンポーネント　|　説明\n",
    "--- | ---\n",
    "品詞タグ付けのためのバイナリ重み | 依存性パーサ、および文脈でのアノテーションを予測するための名前付きエンティティ認識器に使用\n",
    "語彙エントリ | 単語とその形やスペルなどの文脈に依存しない属性。\n",
    "データファイル | 見出し語化ルールやルックアップテーブルなど。\n",
    "単語ベクトル　 | 単語の多次元的な意味表現で、単語同士の類似度を判断する。\n",
    "コンフィグレーション | 言語や処理パイプラインの設定のような設定オプション\n",
    "\n",
    "以降はコードと共に機能について見ていきます。"
   ]
  },
  {
   "cell_type": "markdown",
   "metadata": {
    "id": "H-C5KP4IsjFI"
   },
   "source": [
    "# Ref\n",
    "- [自然言語処理ライブラリ一覧](http://www.phontron.com/nlptools.php?lang=ja)\n",
    "\n",
    "- [GiNZA - Japanese NLP Library](https://megagonlabs.github.io/ginza/)\n",
    "\n",
    "- [日本語ライブラリGINZAのススメ](https://qiita.com/poyo46/items/7a4965455a8a2b2d2971)\n",
    "\n",
    "- [自然言語処理ライブラリGiNZAをインストールして簡単に動かすまでの手順](https://www.virment.com/how-to-install-ginza-and-use/)\n",
    "\n",
    "- [spaCyとGiNZAを用いた言語処理](https://www.koi.mashykom.com/spacy_ginza.html)\n",
    "\n",
    "- [正規表現・自然言語処理](https://petitviolet.hatenablog.com/entry/20120523/1337760714)\n",
    "\n",
    "\n",
    "- [spacy](https://spacy.io/usage/spacy-101)\n",
    "- [spacy翻訳](https://note.com/npaka/n/nc608b9392300?magazine_key=m9a7d32c95ad9)"
   ]
  },
  {
   "cell_type": "code",
   "execution_count": 1,
   "metadata": {
    "id": "RrzC7BTY5YAd"
   },
   "outputs": [],
   "source": [
    "# !pip install ginza\n",
    "# !python -m spacy download en_core_web_lg"
   ]
  },
  {
   "cell_type": "markdown",
   "metadata": {
    "id": "CGpGOpdDlJwo"
   },
   "source": [
    "# 言語アノテーション\n",
    "spaCyは、様々な言語アノテーションを提供します。\n",
    "これは「単語の種類」、「単語間の関係」などです。\n",
    "例えば、「google」が動詞として使われているか、会社名などの名詞として使われているかを示します。\n",
    "\n",
    "統計モデルをインストールしたら、`spacy.load()`でモデルをロードします。これの戻り値はLanguageオブジェクトであり、通常nlpという変数に格納します。`nlp()`を呼び出すと、処理された`doc`が戻ります。"
   ]
  },
  {
   "cell_type": "code",
   "execution_count": 2,
   "metadata": {
    "colab": {
     "base_uri": "https://localhost:8080/",
     "height": 119
    },
    "id": "SPxS8s5r3xF4",
    "outputId": "a7359205-71c6-450c-d135-c798f9470f68"
   },
   "outputs": [
    {
     "name": "stdout",
     "output_type": "stream",
     "text": [
      "吾輩 PRON nsubj 吾輩 ja\n",
      "は ADP case は ja\n",
      "猫 NOUN ROOT 猫 ja\n",
      "で AUX cop だ ja\n",
      "ある AUX aux ある ja\n",
      "。 PUNCT punct 。 ja\n"
     ]
    }
   ],
   "source": [
    "from ginza import *\n",
    "import spacy\n",
    "\n",
    "nlp = spacy.load(\"ja_ginza\")  # GiNZAモデルの読み込み\n",
    "doc = nlp('吾輩は猫である。') # nlpにテキストを渡す\n",
    "\n",
    "for token in doc:\n",
    "    print(token.text, token.pos_, token.dep_, token.lemma_, token.lang_,)\n"
   ]
  },
  {
   "cell_type": "markdown",
   "metadata": {
    "id": "jDyiIRp1sCUc"
   },
   "source": [
    "docが処理されても、元のテキストのすべての情報（空白文字など）が保持されています。\n",
    "トークンのオフセットで元の文字列に取得したり、トークンとその末尾の空白文字を結合して元の文字列を再構築したりすることができます。\n",
    "\n",
    "pos_は品詞を取得します。コードの意味は[こちら](https://universaldependencies.org/docs/u/pos/)です。\n",
    "\n",
    "dep_は構造依存関係を取得します。\n",
    "\n"
   ]
  },
  {
   "cell_type": "markdown",
   "metadata": {
    "id": "79oWH-ujsakl"
   },
   "source": [
    "# Token化\n",
    "\n",
    "spaCyは最初にテキストをトークン化します, すなわち, 単語や句読点などにセグメント化します. これは各言語に固有のルールを適用することによって行われます．例えば, 文末の句読点は分割する必要があります - 一方 \"U.K. \"は1トークンのままにしておく必要があります. それぞれのDocは個々のトークンで構成されており、それらを反復処理することができます。"
   ]
  },
  {
   "cell_type": "code",
   "execution_count": 3,
   "metadata": {
    "colab": {
     "base_uri": "https://localhost:8080/",
     "height": 119
    },
    "id": "46PcGevvnCqH",
    "outputId": "bb01310c-81e8-41a4-814f-25d5223ec398"
   },
   "outputs": [
    {
     "name": "stdout",
     "output_type": "stream",
     "text": [
      "吾輩\n",
      "は\n",
      "猫\n",
      "で\n",
      "ある\n",
      "。\n"
     ]
    }
   ],
   "source": [
    "from ginza import *\n",
    "import spacy\n",
    "\n",
    "nlp = spacy.load(\"ja_ginza\")  # GiNZAモデルの読み込み\n",
    "doc = nlp('吾輩は猫である。') # nlpにテキストを渡す\n",
    "\n",
    "for token in doc:\n",
    "    print(token.text)\n"
   ]
  },
  {
   "cell_type": "markdown",
   "metadata": {
    "id": "qN1qCI7Xs8Ck"
   },
   "source": [
    "まず、生のテキストを text.split(' ' ') のように、空白文字で分割します。次に、トークナイザーはテキストを左から右へと処理します。それぞれの部分文字列に対して、2つのチェックを行います。\n",
    "\n",
    "1. その部分文字列はトークン化の例外ルールに合致していますか？\n",
    "例えば、\"don't \"は空白を含まないが、\"do \"と \"n't \"の2つのトークンに分割されるべきであり、\"U.K. \"は常に1つのトークンのままであるべきである。\n",
    "\n",
    "2. 接頭辞、接尾辞、接頭辞を分割することはできますか？\n",
    "例えば、カンマ、ピリオド、ハイフン、引用符などの句読点。\n",
    "\n",
    "\n",
    "一致するものがあればルールが適用され、トークンライザはループを続け、新たに分割された部分文字列から開始します。このようにして、spaCy は略語の組み合わせや複数の句読点のような複雑で入れ子になったトークンを分割することができます。\n",
    "\n",
    "\n",
    "\n",
    "```\n",
    "トークン化例外：文字列を複数のトークンに分割したり、句読点規則を適用したときにトークンが分割されないようにするための特殊文字列規則。\n",
    "プレフィックス：文字列の先頭にある文字。\n",
    "接頭：末尾の文字、例えば km, ), \", !\n",
    "インフィックス：間にある文字、例：-, --, /, ....\n",
    "```\n",
    "\n",
    "https://spacy.io/tokenization-57e618bd79d933c4ccd308b5739062d6.svg\n",
    "\n"
   ]
  },
  {
   "cell_type": "markdown",
   "metadata": {
    "id": "xbSm7f2luEOi"
   },
   "source": [
    "# 品詞タグと依存関係\n",
    "\n",
    "トークン化の後, spaCyは与えられたDocを解析してタグ付けすることができます. これは、統計モデルが出てくる場所です, これは、spaCyがこのコンテキストで最も適用される可能性が高いタグまたはラベルの予測を行うことができます. モデルは、バイナリデータで構成され、それが言語全体で一般化する予測を行うためにシステムに十分な例を示すことによって生成されます - 例えば, 英語で \"the \"に続く単語は、最も可能性の高い名詞です.\n",
    "\n",
    "\n",
    "言語アノテーションはToken属性として利用可能です。多くのNLPライブラリと同様に、 spaCyはすべての文字列をハッシュ値にエンコードし、メモリ使用量を減らして効率を向上させます。そのため、属性の読める文字列表現を取得するには、その名前にアンダースコア_を追加する必要があります。\n",
    "\n"
   ]
  },
  {
   "cell_type": "code",
   "execution_count": 4,
   "metadata": {
    "colab": {
     "base_uri": "https://localhost:8080/",
     "height": 238
    },
    "id": "8foGTcwZsBZF",
    "outputId": "57fb3722-6271-4df6-c901-9814a017b302"
   },
   "outputs": [
    {
     "name": "stdout",
     "output_type": "stream",
     "text": [
      "タカシ タカシ PROPN 名詞-固有名詞-人名-名 compound xxx True False\n",
      "くん くん NOUN 接尾辞-名詞的-一般 nsubj xx True True\n",
      "は は ADP 助詞-係助詞 case x True True\n",
      "スーパー スーパー NOUN 名詞-普通名詞-一般 obl xxxx True False\n",
      "へ へ ADP 助詞-格助詞 case x True True\n",
      "牛乳 牛乳 NOUN 名詞-普通名詞-一般 obj xx True False\n",
      "を を ADP 助詞-格助詞 case x True True\n",
      "買い 買う VERB 動詞-一般 advcl xx True False\n",
      "に に ADP 助詞-格助詞 case x True True\n",
      "行き 行く VERB 動詞-非自立可能 ROOT xx True False\n",
      "まし ます AUX 助動詞 aux xx True False\n",
      "た た AUX 助動詞 aux x True True\n",
      "。 。 PUNCT 補助記号-句点 punct 。 False False\n"
     ]
    }
   ],
   "source": [
    "from ginza import *\n",
    "import spacy\n",
    "\n",
    "nlp = spacy.load(\"ja_ginza\")  # GiNZAモデルの読み込み\n",
    "doc = nlp('タカシくんはスーパーへ牛乳を買いに行きました。') # nlpにテキストを渡す\n",
    "\n",
    "for token in doc:\n",
    "    print(token.text, token.lemma_, token.pos_, token.tag_, token.dep_, \n",
    "            token.shape_, token.is_alpha, token.is_stop)\n"
   ]
  },
  {
   "cell_type": "markdown",
   "metadata": {
    "id": "WOJtG2axx_zj"
   },
   "source": [
    "各々のオフセットの内容は下記の通りである。\n",
    "\n",
    "```\n",
    "テキスト：単語の原文。\n",
    "ルンマ：単語の基底形。\n",
    "POS（品詞）：単純なUPOS品詞タグ。\n",
    "タグ：詳細品詞タグ\n",
    "Dep:：構文依存性、つまりトークン間の関係\n",
    "Shape（形）： 単語の形。単語の形 - 大文字化、句読点、桁。\n",
    "はアルファです：トークンがアルファ文字であるかどうか。\n",
    "is stop:：トークンはストップリストの一部か、つまりその言語の最も一般的な単語か。\n",
    "```\n"
   ]
  },
  {
   "cell_type": "code",
   "execution_count": 5,
   "metadata": {
    "colab": {
     "base_uri": "https://localhost:8080/",
     "height": 248
    },
    "id": "IklDROnBxer7",
    "outputId": "fb944a6c-f4c4-4373-f930-645f5d5c2312"
   },
   "outputs": [
    {
     "data": {
      "text/html": [
       "<span class=\"tex2jax_ignore\"><svg xmlns=\"http://www.w3.org/2000/svg\" xmlns:xlink=\"http://www.w3.org/1999/xlink\" xml:lang=\"ja\" id=\"55df4759d8304f9a97c4cdd13977e0f3-0\" class=\"displacy\" width=\"500\" height=\"227.0\" direction=\"ltr\" style=\"max-width: none; height: 227.0px; color: #000000; background: #ffffff; font-family: Arial; direction: ltr\">\n",
       "<text class=\"displacy-token\" fill=\"currentColor\" text-anchor=\"middle\" y=\"137.0\">\n",
       "    <tspan class=\"displacy-word\" fill=\"currentColor\" x=\"50\">吾輩</tspan>\n",
       "    <tspan class=\"displacy-tag\" dy=\"2em\" fill=\"currentColor\" x=\"50\">PRON</tspan>\n",
       "</text>\n",
       "\n",
       "<text class=\"displacy-token\" fill=\"currentColor\" text-anchor=\"middle\" y=\"137.0\">\n",
       "    <tspan class=\"displacy-word\" fill=\"currentColor\" x=\"140\">は</tspan>\n",
       "    <tspan class=\"displacy-tag\" dy=\"2em\" fill=\"currentColor\" x=\"140\">ADP</tspan>\n",
       "</text>\n",
       "\n",
       "<text class=\"displacy-token\" fill=\"currentColor\" text-anchor=\"middle\" y=\"137.0\">\n",
       "    <tspan class=\"displacy-word\" fill=\"currentColor\" x=\"230\">猫</tspan>\n",
       "    <tspan class=\"displacy-tag\" dy=\"2em\" fill=\"currentColor\" x=\"230\">NOUN</tspan>\n",
       "</text>\n",
       "\n",
       "<text class=\"displacy-token\" fill=\"currentColor\" text-anchor=\"middle\" y=\"137.0\">\n",
       "    <tspan class=\"displacy-word\" fill=\"currentColor\" x=\"320\">で</tspan>\n",
       "    <tspan class=\"displacy-tag\" dy=\"2em\" fill=\"currentColor\" x=\"320\">AUX</tspan>\n",
       "</text>\n",
       "\n",
       "<text class=\"displacy-token\" fill=\"currentColor\" text-anchor=\"middle\" y=\"137.0\">\n",
       "    <tspan class=\"displacy-word\" fill=\"currentColor\" x=\"410\">ある。</tspan>\n",
       "    <tspan class=\"displacy-tag\" dy=\"2em\" fill=\"currentColor\" x=\"410\">AUX</tspan>\n",
       "</text>\n",
       "\n",
       "<g class=\"displacy-arrow\">\n",
       "    <path class=\"displacy-arc\" id=\"arrow-55df4759d8304f9a97c4cdd13977e0f3-0-0\" stroke-width=\"2px\" d=\"M70,92.0 C70,2.0 230.0,2.0 230.0,92.0\" fill=\"none\" stroke=\"currentColor\"/>\n",
       "    <text dy=\"1.25em\" style=\"font-size: 0.8em; letter-spacing: 1px\">\n",
       "        <textPath xlink:href=\"#arrow-55df4759d8304f9a97c4cdd13977e0f3-0-0\" class=\"displacy-label\" startOffset=\"50%\" side=\"left\" fill=\"currentColor\" text-anchor=\"middle\">nsubj</textPath>\n",
       "    </text>\n",
       "    <path class=\"displacy-arrowhead\" d=\"M70,94.0 L62,82.0 78,82.0\" fill=\"currentColor\"/>\n",
       "</g>\n",
       "\n",
       "<g class=\"displacy-arrow\">\n",
       "    <path class=\"displacy-arc\" id=\"arrow-55df4759d8304f9a97c4cdd13977e0f3-0-1\" stroke-width=\"2px\" d=\"M70,92.0 C70,47.0 135.0,47.0 135.0,92.0\" fill=\"none\" stroke=\"currentColor\"/>\n",
       "    <text dy=\"1.25em\" style=\"font-size: 0.8em; letter-spacing: 1px\">\n",
       "        <textPath xlink:href=\"#arrow-55df4759d8304f9a97c4cdd13977e0f3-0-1\" class=\"displacy-label\" startOffset=\"50%\" side=\"left\" fill=\"currentColor\" text-anchor=\"middle\">case</textPath>\n",
       "    </text>\n",
       "    <path class=\"displacy-arrowhead\" d=\"M135.0,94.0 L143.0,82.0 127.0,82.0\" fill=\"currentColor\"/>\n",
       "</g>\n",
       "\n",
       "<g class=\"displacy-arrow\">\n",
       "    <path class=\"displacy-arc\" id=\"arrow-55df4759d8304f9a97c4cdd13977e0f3-0-2\" stroke-width=\"2px\" d=\"M250,92.0 C250,47.0 315.0,47.0 315.0,92.0\" fill=\"none\" stroke=\"currentColor\"/>\n",
       "    <text dy=\"1.25em\" style=\"font-size: 0.8em; letter-spacing: 1px\">\n",
       "        <textPath xlink:href=\"#arrow-55df4759d8304f9a97c4cdd13977e0f3-0-2\" class=\"displacy-label\" startOffset=\"50%\" side=\"left\" fill=\"currentColor\" text-anchor=\"middle\">cop</textPath>\n",
       "    </text>\n",
       "    <path class=\"displacy-arrowhead\" d=\"M315.0,94.0 L323.0,82.0 307.0,82.0\" fill=\"currentColor\"/>\n",
       "</g>\n",
       "\n",
       "<g class=\"displacy-arrow\">\n",
       "    <path class=\"displacy-arc\" id=\"arrow-55df4759d8304f9a97c4cdd13977e0f3-0-3\" stroke-width=\"2px\" d=\"M250,92.0 C250,2.0 410.0,2.0 410.0,92.0\" fill=\"none\" stroke=\"currentColor\"/>\n",
       "    <text dy=\"1.25em\" style=\"font-size: 0.8em; letter-spacing: 1px\">\n",
       "        <textPath xlink:href=\"#arrow-55df4759d8304f9a97c4cdd13977e0f3-0-3\" class=\"displacy-label\" startOffset=\"50%\" side=\"left\" fill=\"currentColor\" text-anchor=\"middle\">aux</textPath>\n",
       "    </text>\n",
       "    <path class=\"displacy-arrowhead\" d=\"M410.0,94.0 L418.0,82.0 402.0,82.0\" fill=\"currentColor\"/>\n",
       "</g>\n",
       "</svg></span>"
      ],
      "text/plain": [
       "<IPython.core.display.HTML object>"
      ]
     },
     "metadata": {},
     "output_type": "display_data"
    }
   ],
   "source": [
    "import spacy\n",
    "from spacy import displacy\n",
    "\n",
    "nlp = spacy.load('ja_ginza')\n",
    "doc = nlp('吾輩は猫である。')\n",
    "\n",
    "# https://qiita.com/youwht/items/b047225a6fc356fd56ee\n",
    "###係り受け表示\n",
    "#係り受けのグラフ形式を図示する\n",
    "#Colaboratory上で直接表示するためには少々工夫を要する\n",
    "#https://stackoverflow.com/questions/58892382/displacy-from-spacy-in-google-colab\n",
    "displacy.render(doc, style='dep', jupyter=True, options={'distance': 90})"
   ]
  },
  {
   "cell_type": "markdown",
   "metadata": {
    "id": "tQBIRCO4zCS5"
   },
   "source": [
    "# 固有表現\n",
    "固有表現とは名前が割り当てられた実世界のオブジェクトです。例えば、人、国、製品、書籍、映画などがこれにあたります。\n",
    "モデルは学習データに強く依存するため、ユースケースごとに調整が必要です。\n",
    "\n",
    "固有表現はdocのentで取得可能です。"
   ]
  },
  {
   "cell_type": "code",
   "execution_count": 6,
   "metadata": {
    "colab": {
     "base_uri": "https://localhost:8080/",
     "height": 34
    },
    "id": "YAU17gWJzYBJ",
    "outputId": "7604dd5b-b9f1-4ff5-8840-bf73f5dcc794"
   },
   "outputs": [
    {
     "name": "stdout",
     "output_type": "stream",
     "text": [
      "猫 3 4 Mammal\n"
     ]
    }
   ],
   "source": [
    "from ginza import * \n",
    "import spacy\n",
    "\n",
    "nlp = spacy.load('ja_ginza')\n",
    "doc = nlp('吾輩は猫である。')\n",
    "\n",
    "for ent in doc.ents:\n",
    "    print(ent.text, ent.start_char, ent.end_char, ent.label_)"
   ]
  },
  {
   "cell_type": "markdown",
   "metadata": {
    "id": "m6DlOfoO0MTq"
   },
   "source": [
    "```\n",
    "Text: The original entity text.\n",
    "Start: Index of start of entity in the Doc.\n",
    "End: Index of end of entity in the Doc.\n",
    "Label: Entity label, i.e. type.\n",
    "````"
   ]
  },
  {
   "cell_type": "code",
   "execution_count": 7,
   "metadata": {
    "colab": {
     "base_uri": "https://localhost:8080/",
     "height": 52
    },
    "id": "C9nak-f8zX8S",
    "outputId": "e88f7675-199d-4947-95dd-d8d364661092"
   },
   "outputs": [
    {
     "data": {
      "text/html": [
       "<span class=\"tex2jax_ignore\"><div class=\"entities\" style=\"line-height: 2.5; direction: ltr\">吾輩は\n",
       "<mark class=\"entity\" style=\"background: #ddd; padding: 0.45em 0.6em; margin: 0 0.25em; line-height: 1; border-radius: 0.35em;\">\n",
       "    猫\n",
       "    <span style=\"font-size: 0.8em; font-weight: bold; line-height: 1; border-radius: 0.35em; text-transform: uppercase; vertical-align: middle; margin-left: 0.5rem\">Mammal</span>\n",
       "</mark>\n",
       "である。</div></span>"
      ],
      "text/plain": [
       "<IPython.core.display.HTML object>"
      ]
     },
     "metadata": {},
     "output_type": "display_data"
    }
   ],
   "source": [
    "import spacy\n",
    "from spacy import displacy\n",
    "\n",
    "nlp = spacy.load('ja_ginza')\n",
    "doc = nlp('吾輩は猫である。')\n",
    "\n",
    "\n",
    "displacy.render(doc, style='ent', jupyter=True, options={'distance': 90})"
   ]
  },
  {
   "cell_type": "markdown",
   "metadata": {
    "id": "l0Skh1er0jpC"
   },
   "source": [
    "# 単語ベクトルと類似度\n",
    "\n",
    "単語の類似度は、単語ベクトル（word vector）を比較することによって計算します。\n",
    "単語ベクトルはword2vecを使用して生成でき、次のような形式で表されます。\n",
    "\n",
    "```\n",
    "# BANANA.VECTOR\n",
    "array([2.02280000e-01,  -7.66180009e-02,   3.70319992e-01,\n",
    "     3.28450017e-02,  -4.19569999e-01,   7.20689967e-02,\n",
    "    -3.74760002e-01,   5.74599989e-02,  -1.24009997e-02,\n",
    "     5.29489994e-01,  -5.23800015e-01,  -1.97710007e-01,\n",
    "    -3.41470003e-01,   5.33169985e-01,  -2.53309999e-02,\n",
    "     1.73800007e-01,   1.67720005e-01,   8.39839995e-01,\n",
    "     5.51070012e-02,   1.05470002e-01,   3.78719985e-01,\n",
    "     2.42750004e-01,   1.47449998e-02,   5.59509993e-01,\n",
    "     1.25210002e-01,  -6.75960004e-01,   3.58420014e-01,\n",
    "     # ... and so on ...\n",
    "     3.66849989e-01,   2.52470002e-03,  -6.40089989e-01,\n",
    "    -2.97650009e-01,   7.89430022e-01,   3.31680000e-01,\n",
    "    -1.19659996e+00,  -4.71559986e-02,   5.31750023e-01], dtype=float32)\n",
    "```\n",
    "\n",
    "\n",
    "## 注意\n",
    "spacyにはいくつかモデルがあり、通常smで終わるものは小さなモデルを表します。そして、これには単語ベクトルが付属せず、similarity()を使用して各種属性を比較することはできますが、精度はそれほどよくありません。そのため、実際に単語ベクトルを使用する際にはlgで終わるものなどより大きなモデルを使用してください。"
   ]
  },
  {
   "cell_type": "markdown",
   "metadata": {
    "id": "zd8AFXD-1jmZ"
   },
   "source": [
    "単語ベクトルが組み込まれたモデルではToken.vectorとして使用できます。Doc.vectorとSpan.vectorはデフォルトでトークンベクトルの平均になります。"
   ]
  },
  {
   "cell_type": "code",
   "execution_count": 8,
   "metadata": {
    "colab": {
     "base_uri": "https://localhost:8080/",
     "height": 170
    },
    "id": "yvPF-yQzySq_",
    "outputId": "d8b51c01-302e-44fc-ef99-2fc9ae3c0c07"
   },
   "outputs": [
    {
     "name": "stdout",
     "output_type": "stream",
     "text": [
      "犬 True 3.4318957 False\n",
      "　 False 0.0 True\n",
      "猫 True 3.1371322 False\n",
      "　 False 0.0 True\n",
      "亀 True 3.648572 False\n",
      "　 False 0.0 True\n",
      "アップル True 3.9742024 False\n",
      "　 False 0.0 True\n",
      "オレンジ True 3.5486767 False\n"
     ]
    }
   ],
   "source": [
    "import spacy\n",
    "\n",
    "nlp = spacy.load('ja_ginza')\n",
    "tokens = nlp('犬　猫　亀　アップル　オレンジ')\n",
    "\n",
    "for token in tokens:\n",
    "    print(token.text, token.has_vector, token.vector_norm, token.is_oov)"
   ]
  },
  {
   "cell_type": "markdown",
   "metadata": {
    "id": "Dv1QJAAhAhz-"
   },
   "source": [
    "上記の単語は動物と果物を表し、一般的な語彙の一部であるためベクトルがついているが、一般的な語彙に含まれないものにはベクトルがついていないことがあります。これをカバーするためにはより大きいモデルをロードすることを検討してください。\n",
    "\n",
    "\n",
    "spacyは2つのオブジェクトを比較し、それらがどの程度類似しているかを予測できます。\n",
    "\n",
    "Doc、Span、Tokenにはsimilarity()が付属しており、これを使用して他のオブジェクトと比較し、類似度を判断できます。"
   ]
  },
  {
   "cell_type": "code",
   "execution_count": 9,
   "metadata": {
    "colab": {
     "base_uri": "https://localhost:8080/",
     "height": 496
    },
    "id": "_WkbbBrL01wB",
    "outputId": "79670677-313c-4401-b174-c65254fdd097"
   },
   "outputs": [
    {
     "name": "stdout",
     "output_type": "stream",
     "text": [
      "犬 犬 1.0\n",
      "犬 　 0.0\n",
      "犬 猫 0.727109\n",
      "犬 　 0.0\n",
      "犬 アップル 0.09544731\n",
      "　 犬 0.0\n",
      "　 　 1.0\n",
      "　 猫 0.0\n",
      "　 　 1.0\n",
      "　 アップル 0.0\n",
      "猫 犬 0.727109\n",
      "猫 　 0.0\n",
      "猫 猫 1.0\n",
      "猫 　 0.0\n",
      "猫 アップル 0.08162258\n",
      "　 犬 0.0\n",
      "　 　 1.0\n",
      "　 猫 0.0\n",
      "　 　 1.0\n",
      "　 アップル 0.0\n",
      "アップル 犬 0.09544731\n",
      "アップル 　 0.0\n",
      "アップル 猫 0.08162258\n",
      "アップル 　 0.0\n",
      "アップル アップル 1.0\n"
     ]
    },
    {
     "name": "stderr",
     "output_type": "stream",
     "text": [
      "/Users/apple/Documents/github/MyJupyterBookShelf/.venv/lib/python3.7/site-packages/ipykernel_launcher.py:8: UserWarning: [W008] Evaluating Token.similarity based on empty vectors.\n",
      "  \n"
     ]
    }
   ],
   "source": [
    "import spacy\n",
    "\n",
    "nlp = spacy.load('ja_ginza')\n",
    "tokens = nlp('犬　猫　アップル')\n",
    "\n",
    "for token1 in tokens:\n",
    "    for token2 in tokens:\n",
    "        print(token1.text, token2.text, token1.similarity(token2))"
   ]
  },
  {
   "cell_type": "markdown",
   "metadata": {
    "id": "J_5RT0JWBs9O"
   },
   "source": [
    "この場合、モデルの予測はほぼ適切です。同一のトークンは明らかに100%互いに類似しています。ただし、ベクトル演算と浮動小数点の計算のために必ずしも1.0とは限りません。"
   ]
  },
  {
   "cell_type": "markdown",
   "metadata": {
    "id": "cc2PsaxpCBku"
   },
   "source": [
    "# パイプライン\n",
    "\n",
    "テキストに対してnlpを呼び出すと、spacyはテキストをトークン化してDocオブジェクトを生成します。その後、ドキュメントはいくつかのステップで処理されます。これを「処理パイプライン」とも呼ばれます。デフォルトモデルで使用されるパイプラインはタガー、パーサー、エンティティリコグナイざーを含みます。各要素は処理されたDocを返します。\n",
    "\n",
    "\n",
    "名称 | コンポーネント | 生成物 | 説明\n",
    "--- | --- | --- | ---\n",
    "tokenizer | Tokenizer | Doc | テキストをトークンに分割\n",
    "tagger | Tagger | Doc[i].tag | 品詞タグ付け\n",
    "parser | DependencyParser | Doc[i].head, Doc[i].dep, Doc.sents, Doc.noun_chunks | 依存関係ラベルを割り当て\n",
    "ner | EntityRecognizer | Doc.ents, Doc[i].ent_iob, Doc[i].ent_type | 固有表現を検出してラベル付け\n",
    "textcat | TextCategorizer | Doc.cats | ドキュメントラベルを割り当て\n",
    ".... | custom components | Doc._.xxx, Token._.xxx, Span._.xxx | カスタム属性、メソッド、プロパティを割り当て\n",
    "\n",
    "\n",
    "処理パイプラインは、常に統計モデルとその能力に依存する。例えば、モデルがエンティティラベルの予測を行うためのデータを含む場合にのみ、パイプラインはエンティティ認識コンポーネントを含むことができます。このため、各モデルは、コンポーネント名を含む単純なリストとして、そのメタデータで使用するパイプラインを指定します。\n",
    "\n",
    "```\n",
    "\"pipeline\": [\"tagger\", \"parser\", \"ner\"]\n",
    "```"
   ]
  },
  {
   "cell_type": "markdown",
   "metadata": {
    "id": "4_0UzkhmD6vh"
   },
   "source": [
    "# 語彙(Vocab)、ハッシュ(hashe)、見出し(lexeme)\n",
    "\n",
    "\n",
    "可能な限り, spaCyは複数のドキュメントで共有されるボキャブラリー, Vocabにデータを格納しようとします. メモリを節約するために, spaCyはまた、すべての文字列をハッシュ値にエンコードします - この例では, \"coffee \"はハッシュ3197928453018144401を持っています. ORG \"のようなエンティティラベルや \"VERB \"のような品詞タグもエンコードされます. 内部的には、spaCyはハッシュ値の中で「話す」だけです。\n",
    "\n",
    "https://spacy.io/vocab_stringstore-1d1c9ccd7a1cf4d168bfe4ca791e6eed.svg\n",
    "\n",
    "\n",
    "あなたは、すべての異なるコンテキストの種類の単語 \"コーヒー \"を含むドキュメントの多くを処理する場合, 毎回正確な文字列 \"コーヒー \"を格納するには、あまりにも多くのスペースを取るだろう. そこで代わりに、 spaCy は文字列をハッシュして StringStore に保存します。あなたは、両方の方向で動作するルックアップテーブルとしてStringStoreを考えることができます - あなたは、そのハッシュを取得するために文字列を調べることができます, またはその文字列を取得するためにハッシュ.\n"
   ]
  },
  {
   "cell_type": "code",
   "execution_count": 10,
   "metadata": {
    "colab": {
     "base_uri": "https://localhost:8080/",
     "height": 51
    },
    "id": "tSNBI-tcBnai",
    "outputId": "9784452b-c65a-4a9a-e158-38b80d730cf1"
   },
   "outputs": [
    {
     "name": "stdout",
     "output_type": "stream",
     "text": [
      "16003280304011083252\n",
      "コーヒー\n"
     ]
    }
   ],
   "source": [
    "from ginza import *\n",
    "import spacy\n",
    "\n",
    "nlp = spacy.load(\"ja_ginza\")\n",
    "doc = nlp(\"私はコーヒーが好きです\")\n",
    "print(doc.vocab.strings[\"コーヒー\"])  # 3197928453018144401\n",
    "print(doc.vocab.strings[16003280304011083252])  # 'コーヒー'"
   ]
  },
  {
   "cell_type": "markdown",
   "metadata": {
    "id": "aE_uN7jRE1hH"
   },
   "source": [
    "すべての文字列がエンコードされているので、語彙のエントリは単語テキストを含む必要はありません。その代わりに、ハッシュ値を使ってStringStoreで検索することができます。語彙の各エントリはLexemeとも呼ばれ、単語に関する文脈に依存しない情報を含んでいます。例えば、\"love \"がある文脈で動詞や名詞として使われていても、その綴りやアルファベットで構成されているかどうかは変わりません。また、そのハッシュ値も常に同じです。"
   ]
  },
  {
   "cell_type": "code",
   "execution_count": 11,
   "metadata": {
    "colab": {
     "base_uri": "https://localhost:8080/",
     "height": 119
    },
    "id": "Pvd-xdcIEpm2",
    "outputId": "76e16953-a954-4a83-853a-70cc1868ac12"
   },
   "outputs": [
    {
     "name": "stdout",
     "output_type": "stream",
     "text": [
      "私 8621763682285386465 x 私 私 True False False ja\n",
      "は 16159406377086191121 x は は True False False ja\n",
      "コーヒー 16003280304011083252 xxxx コ ーヒー True False False ja\n",
      "が 7715757715875749221 x が が True False False ja\n",
      "好き 8461799995404172894 xx 好 好き True False False ja\n",
      "です 4844028926029883277 xx で です True False False ja\n"
     ]
    }
   ],
   "source": [
    "from ginza import *\n",
    "import spacy\n",
    "\n",
    "nlp = spacy.load(\"ja_ginza\")\n",
    "doc = nlp(\"私はコーヒーが好きです\")\n",
    "\n",
    "for word in doc:\n",
    "    lexeme = doc.vocab[word.text]\n",
    "    print(lexeme.text, lexeme.orth, lexeme.shape_, lexeme.prefix_, lexeme.suffix_,\n",
    "            lexeme.is_alpha, lexeme.is_digit, lexeme.is_title, lexeme.lang_)"
   ]
  },
  {
   "cell_type": "markdown",
   "metadata": {
    "id": "mVcYaSwnFH-O"
   },
   "source": [
    "単語のハッシュへのマッピングは、どのような状態にも依存しません。各値が一意であることを確認するために, spaCyは、単語の文字列に基づいてハッシュを計算するためにハッシュ関数を使用しています. これはまた、 \"コーヒー \"のハッシュは常に同じになることを意味します, あなたが使用しているモデルやどのようにあなたがspaCyを設定したかに関係なく.\n",
    "\n",
    "しかし, ハッシュを逆にすることはできませんし、3197928453018144401を解決する方法はありません。spaCyができるのは語彙で調べることだけです。だからこそ、あなたが作成するすべてのオブジェクトが同じ語彙にアクセスできることを常に確認する必要があります。彼らがそうでない場合、spaCyはそれが必要とする文字列を見つけることができないかもしれません。"
   ]
  },
  {
   "cell_type": "code",
   "execution_count": 12,
   "metadata": {
    "colab": {
     "base_uri": "https://localhost:8080/",
     "height": 85
    },
    "id": "SX6agMZRFBnp",
    "outputId": "6fd031f3-a888-4002-b087-8e7661529276"
   },
   "outputs": [
    {
     "name": "stdout",
     "output_type": "stream",
     "text": [
      "16003280304011083252\n",
      "コーヒー\n",
      "コーヒー\n",
      "コーヒー\n"
     ]
    }
   ],
   "source": [
    "import spacy\n",
    "from spacy.tokens import Doc\n",
    "from spacy.vocab import Vocab\n",
    "\n",
    "nlp = spacy.load('ja_ginza')\n",
    "doc = nlp(\"私はコーヒーが好きです\")\n",
    "\n",
    "print(doc.vocab.strings['コーヒー'])  # 16003280304011083252\n",
    "print(doc.vocab.strings[16003280304011083252])  # 'コーヒー'\n",
    "\n",
    "empty_doc = Doc(Vocab())  # 空のVocabを含む新しいドキュメントを生成\n",
    "# empty_doc.vocab.strings[16003280304011083252] エラー発生\n",
    "\n",
    "empty_doc.vocab.strings.add(\"コーヒー\")  # 「コーヒー」を追加してハッシュを生成\n",
    "print(empty_doc.vocab.strings[16003280304011083252])  # 'コーヒー' 👍\n",
    "\n",
    "new_doc = Doc(doc.vocab)  # 最初のドキュメントの語彙で新しいドキュメントを生成\n",
    "print(new_doc.vocab.strings[16003280304011083252])  # 'コーヒー' 👍"
   ]
  },
  {
   "cell_type": "markdown",
   "metadata": {
    "id": "e5NXw28gFTHC"
   },
   "source": [
    "語彙に3197928453018144401の文字列が含まれていない場合、spaCyはエラーを発生させます。あなたは手動で \"coffee \"を再追加することができますが、これはあなたが実際にドキュメントにその単語が含まれていることを知っている場合にのみ動作します。この問題を防ぐために, spaCy はまた、Doc または nlp オブジェクトを保存するときに Vocab をエクスポートします. これはあなたにオブジェクトとそのエンコードされた注釈を与えます, 加えてそれをデコードするための \"キー\".が提供されます。"
   ]
  },
  {
   "cell_type": "markdown",
   "metadata": {
    "id": "EWV1McnQFiXZ"
   },
   "source": [
    "# ナレッジベース\n",
    "\n",
    "「spaCy」はエンティティリンクタスクをサポートするために、外部ナレッジをナレッジベースに保存します。「ナレッジベース」（KB）はVocabを使用してデータを効率的に保存します。\n",
    "\n",
    "「ナレッジベース」は、最初にすべてのエンティティを追加することによって作成されます。次に、潜在的な言及またはエイリアスごとに、関連するKB IDとそれらの以前の確率のリストが追加されます。これらの事前確率の合計は、特定のエイリアスで1を超えてはなりません。"
   ]
  },
  {
   "cell_type": "code",
   "execution_count": 13,
   "metadata": {
    "colab": {
     "base_uri": "https://localhost:8080/",
     "height": 68
    },
    "id": "evsedRi0FO6u",
    "outputId": "f13d4c34-132e-4eee-f6b7-b74597658411"
   },
   "outputs": [
    {
     "name": "stdout",
     "output_type": "stream",
     "text": [
      "\n",
      "Number of entities in KB: 3\n",
      "Number of aliases in KB: 2\n"
     ]
    }
   ],
   "source": [
    "import spacy\n",
    "from spacy.kb import KnowledgeBase\n",
    "\n",
    "# モデルを読み込み、空のナレッジベースを作成\n",
    "nlp = spacy.load('ja_ginza')\n",
    "kb = KnowledgeBase(vocab=nlp.vocab, entity_vector_length=3)\n",
    "\n",
    "# エンティティの追加\n",
    "kb.add_entity(entity=\"Q1004791\", freq=6, entity_vector=[0, 3, 5])\n",
    "kb.add_entity(entity=\"Q42\", freq=342, entity_vector=[1, 9, -3])\n",
    "kb.add_entity(entity=\"Q5301561\", freq=12, entity_vector=[-2, 4, 2])\n",
    "\n",
    "# エイリアスの追加\n",
    "kb.add_alias(alias=\"Douglas\", entities=[\"Q1004791\", \"Q42\", \"Q5301561\"], probabilities=[0.6, 0.1, 0.2])\n",
    "kb.add_alias(alias=\"Douglas Adams\", entities=[\"Q42\"], probabilities=[0.9])\n",
    "\n",
    "print()\n",
    "print(\"Number of entities in KB:\",kb.get_size_entities()) # 3\n",
    "print(\"Number of aliases in KB:\", kb.get_size_aliases()) # 2"
   ]
  },
  {
   "cell_type": "markdown",
   "metadata": {
    "id": "IcId4ZbgF0YU"
   },
   "source": [
    "# 候補生成\n",
    "\n",
    "テキストエンティティが与えられた場合、ナレッジベースは、もっともらしい候補またはエンティティ識別子のリストを提供します。EntityLinkerは、候補のこのリストを入力として受け取り、ドキュメントのコンテキストを前提として、言及を最も可能性の高い識別子に変換します。\n"
   ]
  },
  {
   "cell_type": "code",
   "execution_count": 14,
   "metadata": {
    "colab": {
     "base_uri": "https://localhost:8080/",
     "height": 68
    },
    "id": "C3YH5uBxFv_g",
    "outputId": "ac3d9ecf-7a14-4f99-cca1-f715987fd46c"
   },
   "outputs": [
    {
     "name": "stdout",
     "output_type": "stream",
     "text": [
      "  Q1004791 0.6000000238418579 [0.0, 3.0, 5.0]\n",
      "  Q42 0.10000000149011612 [1.0, 9.0, -3.0]\n",
      "  Q5301561 0.20000000298023224 [-2.0, 4.0, 2.0]\n"
     ]
    }
   ],
   "source": [
    "import spacy\n",
    "from spacy.kb import KnowledgeBase\n",
    "\n",
    "nlp = spacy.load('ja_ginza')\n",
    "kb = KnowledgeBase(vocab=nlp.vocab, entity_vector_length=3)\n",
    "\n",
    "# エンティティの追加\n",
    "kb.add_entity(entity=\"Q1004791\", freq=6, entity_vector=[0, 3, 5])\n",
    "kb.add_entity(entity=\"Q42\", freq=342, entity_vector=[1, 9, -3])\n",
    "kb.add_entity(entity=\"Q5301561\", freq=12, entity_vector=[-2, 4, 2])\n",
    "\n",
    "# エイリアスの追加\n",
    "kb.add_alias(alias=\"Douglas\", entities=[\"Q1004791\", \"Q42\", \"Q5301561\"], probabilities=[0.6, 0.1, 0.2])\n",
    "\n",
    "candidates = kb.get_candidates(\"Douglas\")\n",
    "for c in candidates:\n",
    "    print(\" \", c.entity_, c.prior_prob, c.entity_vector)"
   ]
  },
  {
   "cell_type": "markdown",
   "metadata": {
    "id": "yI9OYyOwF7K0"
   },
   "source": [
    "# シリアライズ\n",
    "\n",
    "パイプライン、語彙、ベクトル、エンティティを変更したり、モデルを更新したりしている場合は、最終的には進捗状況を保存する必要があります（たとえば、nlpオブジェクトにあるものすべて）。つまり、その内容と構造を、ファイルやバイト文字列などの保存可能な形式に変換する必要があります。このプロセスはシリアル化と呼ばれます。 「spaCy」には、シリアル化メソッドが組み込まれており、Pickleプロトコルをサポートしています。\n",
    "\n",
    "すべてのコンテナクラス、つまり言語（nlp）、Doc、Vocab、StringStoreには、次のメソッドが用意されています。\n",
    "\n",
    "メソッド | 戻り値 | 例\n",
    "--- | --- | ---\n",
    "to_bytes | bytes | data=nlp.to_bytes()\n",
    "from_bytes | object | nlp.from_bytes(data)\n",
    "to_disk | - | nlp.to_disk(\"/path\")\n",
    "from_disk | object | nlp.from_disk(\"/path\")\n"
   ]
  },
  {
   "cell_type": "markdown",
   "metadata": {
    "id": "foccpQI6GkDt"
   },
   "source": [
    "# 訓練\n",
    "\n",
    "spaCyのモデルは統計的であり、彼らが行うすべての \"決定\" - 例えば, どの品詞タグを割り当てるための品詞タグ, または単語が名前付きエンティティであるかどうか - 予測です. この予測は、モデルが訓練中に見てきた例に基づいています. モデルを訓練するには、まず訓練データ、つまりテキストの例と、モデルに予測させたいラベルが必要です。これは、品詞タグ、名前付きエンティティ、またはその他の情報である可能性があります。\n",
    "\n",
    "次に、モデルはラベルの付いていないテキストを表示し、予測を行います。正解がわかっているので、学習例と期待される出力との差を計算する損失関数の誤差勾配の形で、予測に対するフィードバックをモデルに与えることができます。差が大きければ大きいほど、勾配はより重要になり、モデルの更新はより重要になります。\n",
    "\n",
    "https://spacy.io/training-73950e71e6b59678754a87d6cf1481f9.svg\n",
    "\n",
    "モデルを訓練するとき、我々はモデルに単に例を記憶させるだけではなく、他の例で一般化できる理論を考え出させたいのです。結局のところ、ここにある \"Amazon \"のインスタンスが会社であることをモデルに学習させるだけではなく、このような文脈で \"Amazon \"が会社である可能性が高いことをモデルに学習させたいのです。そのため、学習データは常に我々が処理したいデータを代表するものでなければなりません。一人称の文章が非常に稀であるWikipediaで訓練されたモデルは、おそらくTwitterでは悪い結果になるでしょう。同様に、恋愛小説で訓練されたモデルは、法的な文章では悪い結果になる可能性が高いです。\n",
    "\n",
    "これは、モデルがどのように動作しているか、正しい学習をしているかどうかを知るためには、トレーニングデータだけではなく、評価データも必要であることを意味します。もしモデルが訓練されたデータだけでテストした場合、モデルがどれだけ一般化しているかはわかりません。ゼロからモデルを訓練したい場合、通常、訓練と評価の両方に少なくとも数百の例が必要です。既存のモデルを更新するには、非常に少ない例ですでにまともな結果を得ることができます。"
   ]
  },
  {
   "cell_type": "markdown",
   "metadata": {
    "id": "ne4NpNMIGt7h"
   },
   "source": [
    "# 言語データ\n",
    "\n",
    "すべての言語は異なります - そして通常、特に最も一般的な単語の中には、例外や特殊なケースがたくさんあります。これらの例外の中には言語間で共有されているものもあれば、完全に特殊なものもあります - 通常はハードコーディングが必要なほど特殊です。langモジュールには、すべての言語固有のデータが含まれており、シンプルなPythonファイルにまとめられています。これにより、データの更新や拡張が容易になります。\n",
    "\n",
    "例えば、基本的な句読点、絵文字、エモジ、エモーティコン、一文字の略語、「」や「」のようなスペルの異なる等価トークンのための規範などです。これにより、モデルはより正確な予測を行うことができます。サブモジュールの個々の言語データには、特定の言語にのみ関連するルールが含まれています。また、すべてのコンポーネントをまとめたり、言語サブクラスを作成したりします。\n",
    "\n",
    "https://spacy.io/language_data-ef63e6a58b7ec47c073fb59857a76e5f.svg\n",
    "\n"
   ]
  },
  {
   "cell_type": "code",
   "execution_count": 15,
   "metadata": {
    "id": "fD2E5cxhF6An"
   },
   "outputs": [],
   "source": [
    "\n",
    "from spacy.lang.en import English\n",
    "from spacy.lang.de import German\n",
    "from spacy.lang.ja import Japanese\n",
    "\n",
    "nlp_en = English()  # Includes English data\n",
    "nlp_de = German()  # Includes German data\n",
    "nlp_ja = Japanese() # includes Japanese Data"
   ]
  },
  {
   "cell_type": "markdown",
   "metadata": {
    "id": "qXq7L8htHg2S"
   },
   "source": [
    "# アーキテクチャ\n",
    "\n",
    "spaCyの中心的なデータ構造はDocとVocabです。Docオブジェクトは，トークンのシーケンスとそのすべてのアノテーションを所有しています．Vocabオブジェクトは、ドキュメント間で共通の情報を利用可能にするルックアップテーブルのセットを所有しています。文字列、単語ベクトル、語彙属性を一元化することで、これらのデータの複数のコピーを保存する必要がなくなります。これにより、メモリを節約し、真実のソースが単一であることを保証します。\n",
    "\n",
    "テキスト注釈はまた、単一の真実のソースを使用できるように設計されています：Doc オブジェクトはデータを所有し、Span と Token はそのデータを指すビューです。Doc オブジェクトは Tokenizer によって構築され、パイプラインのコンポーネントによってその場で修正されます。Language オブジェクトは、これらのコンポーネントを調整します。生のテキストを取得してパイプラインに送り、注釈付きのドキュメントを返します。また、トレーニングとシリアライゼーションのオーケストレーションも行います。\n",
    "\n",
    "https://spacy.io/architecture-bcdfffe5c0b9f221a2f6607f96ca0e4a.svg"
   ]
  }
 ],
 "metadata": {
  "colab": {
   "collapsed_sections": [],
   "name": "spaCy.ipynb",
   "provenance": []
  },
  "kernelspec": {
   "display_name": "Python 3",
   "name": "python3"
  },
  "language_info": {
   "codemirror_mode": {
    "name": "ipython",
    "version": 3
   },
   "file_extension": ".py",
   "mimetype": "text/x-python",
   "name": "python",
   "nbconvert_exporter": "python",
   "pygments_lexer": "ipython3",
   "version": "3.7.5"
  }
 },
 "nbformat": 4,
 "nbformat_minor": 0
}