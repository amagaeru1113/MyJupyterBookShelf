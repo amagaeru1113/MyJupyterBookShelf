{
 "cells": [
  {
   "cell_type": "markdown",
   "metadata": {
    "colab_type": "text",
    "id": "d3bRwSwmm_sj"
   },
   "source": [
    "# GINZAとは\n",
    "\n",
    "「GINZA」とは、リクルートと国立国語研究所の共同研究によって2019年4月に公開されたPython向け日本語自然言語処理ライブラリです。\n",
    "\n",
    "\n",
    "これまでの自然言語処理ライブラリは独立した機能の物が多く、例えば[「MeCab」](http://mecab.sourceforge.net/)や[「Janome」](https://mocobeta.github.io/janome/)、[「Juman」](http://nlp.ist.i.kyoto-u.ac.jp/index.php?%E6%97%A5%E6%9C%AC%E8%AA%9E%E5%BD%A2%E6%85%8B%E7%B4%A0%E8%A7%A3%E6%9E%90%E3%82%B7%E3%82%B9%E3%83%86%E3%83%A0JUMAN)等は形態素解析、[「CaboCha」](http://code.google.com/p/cabocha/)や[「KNP」](http://nlp.ist.i.kyoto-u.ac.jp/index.php?%E6%97%A5%E6%9C%AC%E8%AA%9E%E6%A7%8B%E6%96%87%E8%A7%A3%E6%9E%90%E3%82%B7%E3%82%B9%E3%83%86%E3%83%A0KNP)等は係り受け解析を担うなど、応用を目指すにはこれらを組み合わせる専門知識とエンジニアリングが必要でした。\n",
    "\n",
    "そこで形態素解析、係り受け解析などを標準で扱えるライブラリとしてGINZAが登場しました。\n",
    "\n",
    "---\n",
    "\n",
    "## GINZAの概要と特徴\n",
    "\n",
    ">「GiNZA」は、最先端の機械学習技術を取り入れた自然言語処理ライブラリ「spaCy」をフレームワークとして利用しており、また、オープンソース形態素解析器「SudachiPy」を内部に組み込み、トークン化処理に利用している。「GiNZA日本語UDモデル」にはMegagon Labsと国立国語研究所の共同研究成果が組み込まれています\n",
    "\n",
    "またGINZAの特徴は以下の通りです。\n",
    "\n",
    ">1.高度な自然言語処理をワンステップで導入完了\n",
    ">これまで、高度な自然言語処理を行うためには複雑な導入作業が必要でしたが、「GiNZA」はワンステップでモジュールとモデルファイルの導入を完了できます。これにより、エンジニアは即座に解析が可能です。\n",
    "> \n",
    ">2.高速・高精度な解析処理と依存構造解析レベルの国際化に対応\n",
    ">産業用途で自然言語処理技術を活用するには、一定の処理速度を保ちながら解析精度を高めるためにチューニングを行うことが一般的です。「GiNZA」は、「spaCy」が提供する高速・高精度な依存構造解析器を使用して、産業用途に耐える性能を備えた高度な自然言語処理機能をライブラリとして提供します。同時に、「spaCy」の国際化機能により、複数の欧米言語と日本語の言語リソースを切り替えて使用することが可能となり、エンジニアは複数言語の解析を単一のライブラリで行うことができます。\n",
    "> \n",
    ">3.国立国語研究所との共同研究成果の学習モデルを提供\n",
    "自然言語処理系の学会を中心に、人類が用いる多様な言語を、一貫した構文構造・品詞体系で解析可能にする>「Universal Dependencies」の取組みが、2014年から全世界で始まっています。日本においても当初からUDの日本語への適用に関する研究と日本語版UDコーパス（データ）構築が同時に進められてきました。Megagon Labsは、国立国語研究所と共同で、日本語版UDに基づいた高精度な依存構造解析技術の研究を行い、その成果である学習済みモデルを「GiNZA日本語UDモデル」に組み込みました。\n",
    "「GiNZA日本語UDモデル」は、国立国語研究所が長年の研究を通じて蓄積してきた大規模かつ高品質なテキストコーパスに加えて、日本語Wikipediaテキストも同時に用いて機械学習に適用することで、幅広い分野に適応可能なモデルを構築しています。\n",
    "\n",
    "つまりはこれまで自然言語処理を始めるには機能独立したライブラリそれぞれを準備する必要がありましたが、「GINZA」を準備するだけで始める準備が終わることになります。\n",
    "\n",
    "引用元[リクルートのAI研究機関、国立国語研究所との共同研究成果を用いた日本語の自然言語処理ライブラリ「GiNZA」を公開](https://www.recruit.co.jp/newsroom/2019/0402_18331.html)\n"
   ]
  },
  {
   "cell_type": "markdown",
   "metadata": {
    "colab_type": "text",
    "id": "54q6JxESuR7Q"
   },
   "source": [
    "# spaCyとは\n",
    "「GINZA」が使用している「spaCy」は、Pythonで高度な自然言語処理(NLP)を行うためのフリーのオープンソースライブラリです。最新の研究を元に各機能は作られており、産業製品用途に耐えうるように特別に設計されています。この点が教育や研究用途のNLTKやCoreNLPのようなライブラリとは異なります。しかし、spaCyができることは数多く、情報抽出や自然言語理解システムの構築、またはDNNの前処理などに役立ちます。\n",
    "\n",
    "---\n",
    "\n",
    "## spaCyの機能\n",
    "spaCyの機能についてまとめた表を示します。\n",
    "\n",
    "処理 | 説明\n",
    "--- | ---\n",
    "トークン化 | テキストを単語や句読点などに分割します。\n",
    "品詞（POS: Part-of-speech）タグ付け | 動詞や名詞などのトークンに単語タイプを割り当てます。\n",
    "依存関係の解析 | 主語や目的語のように、個々のトークン間の関係を記述する構文依存性ラベルを割り当てます。\n",
    "語の見出し語化(Lemmatization) | 単語の基本形を割り当てる。例えば、\"was \"の見出しは \"be \"であり、\"rats \"の見出しは \"rat \"である。\n",
    "文境界検出 (SBD:Sentence Boundary Detection) | 個々の文を見つけてセグメント化します。\n",
    "固有表現抽出(NER:Named Entity Recognition ) | 人、会社、場所など、名前のついた「実世界」のオブジェクトをラベリングします。\n",
    "エンティティリンク (EL:Entity Linking)  | テキストのエンティティを、知識ベース内の一意の識別子と区別します。\n",
    "類似性(Similarity) | 単語、テキストスパン、ドキュメントを比較し、それらが互いにどの程度似ているかを比較します。\n",
    "テキスト分類 | 文書全体または文書の一部にカテゴリやラベルを割り当てます。\n",
    "ルールベースのマッチング | 正規表現に似た、テキストと言語的注釈に基づいて、トークンのシーケンスを見つけます。\n",
    "トレーニング | 統計モデルの予測を更新したり、改善したりすること。\n",
    "シリアライゼーション | オブジェクトをファイルやバイト文字列に保存します。\n",
    "\n",
    "上記の処理機能の一部は独立して使用可能ですが、その他は言語アノテーションを予測するための統計モデルをロードする必要があります。統計モデルには、通常、以下のコンポーネントが含まれています。\n",
    "\n",
    "コンポーネント　|　説明\n",
    "--- | ---\n",
    "品詞タグ付けのためのバイナリ重み | 依存性パーサ、および文脈でのアノテーションを予測するための名前付きエンティティ認識器に使用\n",
    "語彙エントリ | 単語とその形やスペルなどの文脈に依存しない属性。\n",
    "データファイル | 見出し語化ルールやルックアップテーブルなど。\n",
    "単語ベクトル　 | 単語の多次元的な意味表現で、単語同士の類似度を判断する。\n",
    "コンフィグレーション | 言語や処理パイプラインの設定のような設定オプション\n",
    "\n",
    "以降はコードと共に機能について見ていきます。\n",
    "\n",
    "\n",
    "# Ref\n",
    "- [自然言語処理ライブラリ一覧](http://www.phontron.com/nlptools.php?lang=ja)\n",
    "\n",
    "- [GiNZA - Japanese NLP Library](https://megagonlabs.github.io/ginza/)\n",
    "\n",
    "- [日本語ライブラリGINZAのススメ](https://qiita.com/poyo46/items/7a4965455a8a2b2d2971)\n",
    "\n",
    "- [自然言語処理ライブラリGiNZAをインストールして簡単に動かすまでの手順](https://www.virment.com/how-to-install-ginza-and-use/)\n",
    "\n",
    "- [spaCyとGiNZAを用いた言語処理](https://www.koi.mashykom.com/spacy_ginza.html)\n",
    "\n",
    "- [正規表現・自然言語処理](https://petitviolet.hatenablog.com/entry/20120523/1337760714)\n",
    "\n",
    "\n",
    "- [spacy](https://spacy.io/usage/spacy-101)\n",
    "- [spacy翻訳](https://note.com/npaka/n/nc608b9392300?magazine_key=m9a7d32c95ad9)\n",
    "\n"
   ]
  },
  {
   "cell_type": "code",
   "execution_count": 1,
   "metadata": {
    "colab": {
     "base_uri": "https://localhost:8080/",
     "height": 476
    },
    "colab_type": "code",
    "id": "RrzC7BTY5YAd",
    "outputId": "e27c79dc-6664-4321-bbc8-a2f31925528f"
   },
   "outputs": [
    {
     "name": "stdout",
     "output_type": "stream",
     "text": [
      "Collecting ginza\r\n"
     ]
    },
    {
     "name": "stdout",
     "output_type": "stream",
     "text": [
      "  Using cached https://files.pythonhosted.org/packages/a6/cc/5d3a9230cf3dd8426d0fc147133eb49913acdb8a6c8828320a7c8e2ae8b9/ginza-4.0.5.tar.gz\r\n"
     ]
    },
    {
     "name": "stdout",
     "output_type": "stream",
     "text": [
      "Collecting spacy<3.0.0,>=2.3.2 (from ginza)\r\n"
     ]
    },
    {
     "name": "stdout",
     "output_type": "stream",
     "text": [
      "  Using cached https://files.pythonhosted.org/packages/53/66/facc29889e0be6cceb64cbb9d4dff45a3defee79b333d41c8a2597eb6b5e/spacy-2.3.2-cp37-cp37m-macosx_10_9_x86_64.whl\r\n"
     ]
    },
    {
     "name": "stdout",
     "output_type": "stream",
     "text": [
      "Collecting ja_ginza<4.1.0,>=4.0.0 (from ginza)\r\n"
     ]
    },
    {
     "name": "stdout",
     "output_type": "stream",
     "text": [
      "  Using cached https://files.pythonhosted.org/packages/89/7d/c8778b5472082da8488b2686cbab3e34ab371fa038c1a712a8d55d8dba2b/ja_ginza-4.0.0.tar.gz\r\n"
     ]
    },
    {
     "name": "stdout",
     "output_type": "stream",
     "text": [
      "Collecting SudachiPy>=0.4.9 (from ginza)\r\n"
     ]
    },
    {
     "name": "stdout",
     "output_type": "stream",
     "text": [
      "  Using cached https://files.pythonhosted.org/packages/7a/bf/2e5e4ed553aecfcff85e492c96ae39d8413b54a2b356dea9905fa66cf31d/SudachiPy-0.4.9-cp37-cp37m-macosx_10_14_x86_64.whl\r\n"
     ]
    },
    {
     "name": "stdout",
     "output_type": "stream",
     "text": [
      "Collecting SudachiDict-core>=20200330 (from ginza)\r\n"
     ]
    },
    {
     "name": "stdout",
     "output_type": "stream",
     "text": [
      "  Using cached https://files.pythonhosted.org/packages/c4/8f/38c5bea51bf1c825c8774810d1bdd84f3c0b8e3526f00db954ba940e6191/SudachiDict-core-20200722.tar.gz\r\n"
     ]
    },
    {
     "name": "stdout",
     "output_type": "stream",
     "text": [
      "Collecting catalogue<1.1.0,>=0.0.7 (from spacy<3.0.0,>=2.3.2->ginza)\r\n"
     ]
    },
    {
     "name": "stdout",
     "output_type": "stream",
     "text": [
      "  Using cached https://files.pythonhosted.org/packages/6c/f9/9a5658e2f56932e41eb264941f9a2cb7f3ce41a80cb36b2af6ab78e2f8af/catalogue-1.0.0-py2.py3-none-any.whl\r\n"
     ]
    },
    {
     "name": "stdout",
     "output_type": "stream",
     "text": [
      "Collecting blis<0.5.0,>=0.4.0 (from spacy<3.0.0,>=2.3.2->ginza)\r\n"
     ]
    },
    {
     "name": "stdout",
     "output_type": "stream",
     "text": [
      "  Using cached https://files.pythonhosted.org/packages/85/d8/f0be9d8ebec9cbeea1427de6ac0ecc919c0bfe881eff2d2965dbc310ca8b/blis-0.4.1-cp37-cp37m-macosx_10_6_intel.macosx_10_9_intel.macosx_10_9_x86_64.macosx_10_10_intel.macosx_10_10_x86_64.whl\r\n"
     ]
    },
    {
     "name": "stdout",
     "output_type": "stream",
     "text": [
      "Requirement already satisfied: numpy>=1.15.0 in /Users/apple/Documents/github/MyJupyterBookShelf/.venv/lib/python3.7/site-packages (from spacy<3.0.0,>=2.3.2->ginza) (1.19.2)\r\n",
      "Requirement already satisfied: requests<3.0.0,>=2.13.0 in /Users/apple/Documents/github/MyJupyterBookShelf/.venv/lib/python3.7/site-packages (from spacy<3.0.0,>=2.3.2->ginza) (2.24.0)\r\n"
     ]
    },
    {
     "name": "stdout",
     "output_type": "stream",
     "text": [
      "Collecting wasabi<1.1.0,>=0.4.0 (from spacy<3.0.0,>=2.3.2->ginza)\r\n"
     ]
    },
    {
     "name": "stdout",
     "output_type": "stream",
     "text": [
      "  Using cached https://files.pythonhosted.org/packages/1b/10/55f3cf6b52cc89107b3e1b88fcf39719392b377a3d78ca61da85934d0d10/wasabi-0.8.0-py3-none-any.whl\r\n"
     ]
    },
    {
     "name": "stdout",
     "output_type": "stream",
     "text": [
      "Collecting murmurhash<1.1.0,>=0.28.0 (from spacy<3.0.0,>=2.3.2->ginza)\r\n"
     ]
    },
    {
     "name": "stdout",
     "output_type": "stream",
     "text": [
      "  Using cached https://files.pythonhosted.org/packages/b9/bd/faace403086ee922afc74e5615cb8c21020fcf5d5667314e943c08f71fde/murmurhash-1.0.2-cp37-cp37m-macosx_10_6_intel.macosx_10_9_intel.macosx_10_9_x86_64.macosx_10_10_intel.macosx_10_10_x86_64.whl\r\n"
     ]
    },
    {
     "name": "stdout",
     "output_type": "stream",
     "text": [
      "Collecting thinc==7.4.1 (from spacy<3.0.0,>=2.3.2->ginza)\r\n"
     ]
    },
    {
     "name": "stdout",
     "output_type": "stream",
     "text": [
      "  Using cached https://files.pythonhosted.org/packages/f8/3f/9cee434ca42cd7902c1369038daf6c78e06bc101750aa75c6eed1a7bdf03/thinc-7.4.1-cp37-cp37m-macosx_10_9_x86_64.whl\r\n"
     ]
    },
    {
     "name": "stdout",
     "output_type": "stream",
     "text": [
      "Collecting srsly<1.1.0,>=1.0.2 (from spacy<3.0.0,>=2.3.2->ginza)\r\n"
     ]
    },
    {
     "name": "stdout",
     "output_type": "stream",
     "text": [
      "  Using cached https://files.pythonhosted.org/packages/77/21/2bfb8d559ed128b43e3a12e28579ab5f6b043f1ac079168de3025c0d0a39/srsly-1.0.2-cp37-cp37m-macosx_10_9_x86_64.whl\r\n"
     ]
    },
    {
     "name": "stdout",
     "output_type": "stream",
     "text": [
      "Collecting tqdm<5.0.0,>=4.38.0 (from spacy<3.0.0,>=2.3.2->ginza)\r\n"
     ]
    },
    {
     "name": "stdout",
     "output_type": "stream",
     "text": [
      "\u001b[?25l  Downloading https://files.pythonhosted.org/packages/bd/cf/f91813073e4135c1183cadf968256764a6fe4e35c351d596d527c0540461/tqdm-4.50.2-py2.py3-none-any.whl (70kB)\r\n",
      "\r",
      "\u001b[K     |████▋                           | 10kB 14.1MB/s eta 0:00:01\r",
      "\u001b[K     |█████████▎                      | 20kB 1.0MB/s eta 0:00:01\r",
      "\u001b[K     |█████████████▉                  | 30kB 1.5MB/s eta 0:00:01"
     ]
    },
    {
     "name": "stdout",
     "output_type": "stream",
     "text": [
      "\r",
      "\u001b[K     |██████████████████▌             | 40kB 1.0MB/s eta 0:00:01\r",
      "\u001b[K     |███████████████████████▏        | 51kB 1.2MB/s eta 0:00:01\r",
      "\u001b[K     |███████████████████████████▊    | 61kB 1.4MB/s eta 0:00:01\r",
      "\u001b[K     |████████████████████████████████| 71kB 1.5MB/s \r\n"
     ]
    },
    {
     "name": "stdout",
     "output_type": "stream",
     "text": [
      "\u001b[?25hRequirement already satisfied: setuptools in /Users/apple/Documents/github/MyJupyterBookShelf/.venv/lib/python3.7/site-packages (from spacy<3.0.0,>=2.3.2->ginza) (41.2.0)\r\n",
      "Collecting preshed<3.1.0,>=3.0.2 (from spacy<3.0.0,>=2.3.2->ginza)\r\n"
     ]
    },
    {
     "name": "stdout",
     "output_type": "stream",
     "text": [
      "  Using cached https://files.pythonhosted.org/packages/c7/3e/9aaba1f8c0cb69e57ebeb411cc1b65b3f6bfc3572dd68969a6d3e59288f6/preshed-3.0.2-cp37-cp37m-macosx_10_6_intel.macosx_10_9_intel.macosx_10_9_x86_64.macosx_10_10_intel.macosx_10_10_x86_64.whl\r\n"
     ]
    },
    {
     "name": "stdout",
     "output_type": "stream",
     "text": [
      "Collecting plac<1.2.0,>=0.9.6 (from spacy<3.0.0,>=2.3.2->ginza)\r\n",
      "  Using cached https://files.pythonhosted.org/packages/86/85/40b8f66c2dd8f4fd9f09d59b22720cffecf1331e788b8a0cab5bafb353d1/plac-1.1.3-py2.py3-none-any.whl\r\n"
     ]
    },
    {
     "name": "stdout",
     "output_type": "stream",
     "text": [
      "Collecting cymem<2.1.0,>=2.0.2 (from spacy<3.0.0,>=2.3.2->ginza)\r\n"
     ]
    },
    {
     "name": "stdout",
     "output_type": "stream",
     "text": [
      "  Using cached https://files.pythonhosted.org/packages/63/34/a8b682ee9b57db35a5fe4e179b77c1bda0f6a09745669a99cfc27aa2bed7/cymem-2.0.3-cp37-cp37m-macosx_10_6_intel.whl\r\n"
     ]
    },
    {
     "name": "stdout",
     "output_type": "stream",
     "text": [
      "Collecting sortedcontainers~=2.1.0 (from SudachiPy>=0.4.9->ginza)\r\n"
     ]
    },
    {
     "name": "stdout",
     "output_type": "stream",
     "text": [
      "  Using cached https://files.pythonhosted.org/packages/13/f3/cf85f7c3a2dbd1a515d51e1f1676d971abe41bba6f4ab5443240d9a78e5b/sortedcontainers-2.1.0-py2.py3-none-any.whl\r\n",
      "Collecting dartsclone~=0.9.0 (from SudachiPy>=0.4.9->ginza)\r\n"
     ]
    },
    {
     "name": "stdout",
     "output_type": "stream",
     "text": [
      "  Using cached https://files.pythonhosted.org/packages/26/8a/4409d6476234403ad8eea9cee23f3da81e1d52555385651f07f1db166f24/dartsclone-0.9.0-cp37-cp37m-macosx_10_13_x86_64.whl\r\n"
     ]
    },
    {
     "name": "stdout",
     "output_type": "stream",
     "text": [
      "Requirement already satisfied: importlib-metadata>=0.20; python_version < \"3.8\" in /Users/apple/Documents/github/MyJupyterBookShelf/.venv/lib/python3.7/site-packages (from catalogue<1.1.0,>=0.0.7->spacy<3.0.0,>=2.3.2->ginza) (2.0.0)\r\n",
      "Requirement already satisfied: certifi>=2017.4.17 in /Users/apple/Documents/github/MyJupyterBookShelf/.venv/lib/python3.7/site-packages (from requests<3.0.0,>=2.13.0->spacy<3.0.0,>=2.3.2->ginza) (2020.6.20)\r\n",
      "Requirement already satisfied: urllib3!=1.25.0,!=1.25.1,<1.26,>=1.21.1 in /Users/apple/Documents/github/MyJupyterBookShelf/.venv/lib/python3.7/site-packages (from requests<3.0.0,>=2.13.0->spacy<3.0.0,>=2.3.2->ginza) (1.25.10)\r\n"
     ]
    },
    {
     "name": "stdout",
     "output_type": "stream",
     "text": [
      "Requirement already satisfied: chardet<4,>=3.0.2 in /Users/apple/Documents/github/MyJupyterBookShelf/.venv/lib/python3.7/site-packages (from requests<3.0.0,>=2.13.0->spacy<3.0.0,>=2.3.2->ginza) (3.0.4)\r\n",
      "Requirement already satisfied: idna<3,>=2.5 in /Users/apple/Documents/github/MyJupyterBookShelf/.venv/lib/python3.7/site-packages (from requests<3.0.0,>=2.13.0->spacy<3.0.0,>=2.3.2->ginza) (2.10)\r\n",
      "Collecting Cython (from dartsclone~=0.9.0->SudachiPy>=0.4.9->ginza)\r\n"
     ]
    },
    {
     "name": "stdout",
     "output_type": "stream",
     "text": [
      "  Using cached https://files.pythonhosted.org/packages/2b/4d/899fb0967be8b02bdbc47f892b48f576f9c2d28f7d49710bcecf9ed1c705/Cython-0.29.21-cp37-cp37m-macosx_10_9_x86_64.whl\r\n"
     ]
    },
    {
     "name": "stdout",
     "output_type": "stream",
     "text": [
      "Requirement already satisfied: zipp>=0.5 in /Users/apple/Documents/github/MyJupyterBookShelf/.venv/lib/python3.7/site-packages (from importlib-metadata>=0.20; python_version < \"3.8\"->catalogue<1.1.0,>=0.0.7->spacy<3.0.0,>=2.3.2->ginza) (3.3.0)\r\n",
      "Building wheels for collected packages: ginza, ja-ginza, SudachiDict-core\r\n"
     ]
    },
    {
     "name": "stdout",
     "output_type": "stream",
     "text": [
      "  Building wheel for ginza (setup.py) ... \u001b[?25l-"
     ]
    },
    {
     "name": "stdout",
     "output_type": "stream",
     "text": [
      "\b \bdone\r\n",
      "\u001b[?25h  Created wheel for ginza: filename=ginza-4.0.5-cp37-none-any.whl size=15899 sha256=574c14509f744808cb0f843aaaffbbebb8e82557af1b5b72e899e6fb6ba11f9e\r\n",
      "  Stored in directory: /Users/apple/Library/Caches/pip/wheels/a2/4f/b8/74029780ece4fedfa1f16ba6b9b86fdeee8260ade265e3756e\r\n"
     ]
    },
    {
     "name": "stdout",
     "output_type": "stream",
     "text": [
      "  Building wheel for ja-ginza (setup.py) ... \u001b[?25l-"
     ]
    },
    {
     "name": "stdout",
     "output_type": "stream",
     "text": [
      "\b \b\\"
     ]
    },
    {
     "name": "stdout",
     "output_type": "stream",
     "text": [
      "\b \b|"
     ]
    },
    {
     "name": "stdout",
     "output_type": "stream",
     "text": [
      "\b \b/"
     ]
    },
    {
     "name": "stdout",
     "output_type": "stream",
     "text": [
      "\b \b-"
     ]
    },
    {
     "name": "stdout",
     "output_type": "stream",
     "text": [
      "\b \b\\"
     ]
    },
    {
     "name": "stdout",
     "output_type": "stream",
     "text": [
      "\b \bdone\r\n"
     ]
    },
    {
     "name": "stdout",
     "output_type": "stream",
     "text": [
      "\u001b[?25h  Created wheel for ja-ginza: filename=ja_ginza-4.0.0-cp37-none-any.whl size=51530813 sha256=86d551dc6ff3d31744c7a9edb90273a15b734be00d26206badaff8eb22876ddd\r\n",
      "  Stored in directory: /Users/apple/Library/Caches/pip/wheels/28/5a/c0/95ac590b39eff99c77d729f284341d15a6903e4011d70ff421\r\n"
     ]
    },
    {
     "name": "stdout",
     "output_type": "stream",
     "text": [
      "  Building wheel for SudachiDict-core (setup.py) ... \u001b[?25l-"
     ]
    },
    {
     "name": "stdout",
     "output_type": "stream",
     "text": [
      "\b \b\\"
     ]
    },
    {
     "name": "stdout",
     "output_type": "stream",
     "text": [
      "\b \b|"
     ]
    },
    {
     "name": "stdout",
     "output_type": "stream",
     "text": [
      "\b \b/"
     ]
    },
    {
     "name": "stdout",
     "output_type": "stream",
     "text": [
      "\b \b-"
     ]
    },
    {
     "name": "stdout",
     "output_type": "stream",
     "text": [
      "\b \bdone\r\n"
     ]
    },
    {
     "name": "stdout",
     "output_type": "stream",
     "text": [
      "\u001b[?25h  Created wheel for SudachiDict-core: filename=SudachiDict_core-20200722-cp37-none-any.whl size=71120192 sha256=a54f059278c29c1554a5fffbbf052b123073bd19a38fcafc1c8f82ba86d01f7f\r\n",
      "  Stored in directory: /Users/apple/Library/Caches/pip/wheels/aa/79/cb/ee2ca7db8ba91560158dd4b1362ca1bcc1622541d476de5145\r\n"
     ]
    },
    {
     "name": "stdout",
     "output_type": "stream",
     "text": [
      "Successfully built ginza ja-ginza SudachiDict-core\r\n"
     ]
    },
    {
     "name": "stdout",
     "output_type": "stream",
     "text": [
      "Installing collected packages: catalogue, blis, wasabi, murmurhash, srsly, tqdm, cymem, preshed, plac, thinc, spacy, ja-ginza, sortedcontainers, Cython, dartsclone, SudachiPy, SudachiDict-core, ginza\r\n"
     ]
    }
   ],
   "source": [
    "!pip install ginza"
   ]
  },
  {
   "cell_type": "code",
   "execution_count": 1,
   "metadata": {
    "colab": {
     "base_uri": "https://localhost:8080/",
     "height": 170
    },
    "colab_type": "code",
    "id": "SPxS8s5r3xF4",
    "outputId": "077e1291-0089-4910-91ca-48f1455a52c6"
   },
   "outputs": [
    {
     "name": "stdout",
     "output_type": "stream",
     "text": [
      "銀座 PROPN obl\n",
      "で ADP case\n",
      "ランチ NOUN obj\n",
      "を ADP case\n",
      "ご NOUN compound\n",
      "一緒 VERB ROOT\n",
      "し AUX advcl\n",
      "ましょう AUX aux\n",
      "。 PUNCT punct\n"
     ]
    }
   ],
   "source": [
    "from ginza import *\n",
    "import spacy\n",
    "\n",
    "nlp = spacy.load(\"ja_ginza\")  # GiNZAモデルの読み込み\n",
    "doc = nlp('銀座でランチをご一緒しましょう。')\n",
    "\n",
    "for token in doc:\n",
    "    print(token.text, token.pos_, token.dep_)\n"
   ]
  },
  {
   "cell_type": "code",
   "execution_count": 1,
   "metadata": {
    "colab": {
     "base_uri": "https://localhost:8080/",
     "height": 1000
    },
    "colab_type": "code",
    "id": "PU8xpfjxm-Am",
    "outputId": "7be21e87-3798-402c-9318-925a5750080c"
   },
   "outputs": [
    {
     "name": "stdout",
     "output_type": "stream",
     "text": [
      "Collecting ginza\n",
      "  Downloading https://files.pythonhosted.org/packages/99/6e/2d41f14ac730c7cb34421829677f4a1d85e06b459d4542dd618d57280c8c/ginza-4.0.0.tar.gz\n",
      "Collecting spacy<3.0.0,>=2.3.2\n",
      "\u001b[?25l  Downloading https://files.pythonhosted.org/packages/10/b5/c7a92c7ce5d4b353b70b4b5b4385687206c8b230ddfe08746ab0fd310a3a/spacy-2.3.2-cp36-cp36m-manylinux1_x86_64.whl (9.9MB)\n",
      "\u001b[K     |████████████████████████████████| 10.0MB 4.0MB/s \n",
      "\u001b[?25hCollecting ja_ginza<4.1.0,>=4.0.0\n",
      "\u001b[?25l  Downloading https://files.pythonhosted.org/packages/89/7d/c8778b5472082da8488b2686cbab3e34ab371fa038c1a712a8d55d8dba2b/ja_ginza-4.0.0.tar.gz (51.5MB)\n",
      "\u001b[K     |████████████████████████████████| 51.5MB 125kB/s \n",
      "\u001b[?25hCollecting SudachiPy>=0.4.9\n",
      "\u001b[?25l  Downloading https://files.pythonhosted.org/packages/71/18/8531c4a1c904cb24d37a09e7dff3273857ee65e0d0adb62d09c6f5492f5d/SudachiPy-0.4.9.tar.gz (67kB)\n",
      "\u001b[K     |████████████████████████████████| 71kB 7.1MB/s \n",
      "\u001b[?25hCollecting SudachiDict-core>=20200330\n",
      "  Downloading https://files.pythonhosted.org/packages/c4/8f/38c5bea51bf1c825c8774810d1bdd84f3c0b8e3526f00db954ba940e6191/SudachiDict-core-20200722.tar.gz\n",
      "Requirement already satisfied: murmurhash<1.1.0,>=0.28.0 in /usr/local/lib/python3.6/dist-packages (from spacy<3.0.0,>=2.3.2->ginza) (1.0.2)\n",
      "Requirement already satisfied: blis<0.5.0,>=0.4.0 in /usr/local/lib/python3.6/dist-packages (from spacy<3.0.0,>=2.3.2->ginza) (0.4.1)\n",
      "Collecting thinc==7.4.1\n",
      "\u001b[33m  WARNING: Retrying (Retry(total=4, connect=None, read=None, redirect=None, status=None)) after connection broken by 'ProtocolError('Connection aborted.', ConnectionResetError(104, 'Connection reset by peer'))': /packages/10/ae/ef3ae5e93639c0ef8e3eb32e3c18341e511b3c515fcfc603f4b808087651/thinc-7.4.1-cp36-cp36m-manylinux1_x86_64.whl\u001b[0m\n",
      "\u001b[?25l  Downloading https://files.pythonhosted.org/packages/10/ae/ef3ae5e93639c0ef8e3eb32e3c18341e511b3c515fcfc603f4b808087651/thinc-7.4.1-cp36-cp36m-manylinux1_x86_64.whl (2.1MB)\n",
      "\u001b[K     |████████████████████████████████| 2.1MB 2.7MB/s \n",
      "\u001b[?25hRequirement already satisfied: tqdm<5.0.0,>=4.38.0 in /usr/local/lib/python3.6/dist-packages (from spacy<3.0.0,>=2.3.2->ginza) (4.41.1)\n",
      "Requirement already satisfied: setuptools in /usr/local/lib/python3.6/dist-packages (from spacy<3.0.0,>=2.3.2->ginza) (49.2.0)\n",
      "Requirement already satisfied: requests<3.0.0,>=2.13.0 in /usr/local/lib/python3.6/dist-packages (from spacy<3.0.0,>=2.3.2->ginza) (2.23.0)\n",
      "Requirement already satisfied: cymem<2.1.0,>=2.0.2 in /usr/local/lib/python3.6/dist-packages (from spacy<3.0.0,>=2.3.2->ginza) (2.0.3)\n",
      "Requirement already satisfied: numpy>=1.15.0 in /usr/local/lib/python3.6/dist-packages (from spacy<3.0.0,>=2.3.2->ginza) (1.18.5)\n",
      "Requirement already satisfied: preshed<3.1.0,>=3.0.2 in /usr/local/lib/python3.6/dist-packages (from spacy<3.0.0,>=2.3.2->ginza) (3.0.2)\n",
      "Requirement already satisfied: wasabi<1.1.0,>=0.4.0 in /usr/local/lib/python3.6/dist-packages (from spacy<3.0.0,>=2.3.2->ginza) (0.7.1)\n",
      "Requirement already satisfied: catalogue<1.1.0,>=0.0.7 in /usr/local/lib/python3.6/dist-packages (from spacy<3.0.0,>=2.3.2->ginza) (1.0.0)\n",
      "Requirement already satisfied: plac<1.2.0,>=0.9.6 in /usr/local/lib/python3.6/dist-packages (from spacy<3.0.0,>=2.3.2->ginza) (1.1.3)\n",
      "Requirement already satisfied: srsly<1.1.0,>=1.0.2 in /usr/local/lib/python3.6/dist-packages (from spacy<3.0.0,>=2.3.2->ginza) (1.0.2)\n",
      "Collecting sortedcontainers~=2.1.0\n",
      "  Downloading https://files.pythonhosted.org/packages/13/f3/cf85f7c3a2dbd1a515d51e1f1676d971abe41bba6f4ab5443240d9a78e5b/sortedcontainers-2.1.0-py2.py3-none-any.whl\n",
      "Collecting dartsclone~=0.9.0\n",
      "\u001b[?25l  Downloading https://files.pythonhosted.org/packages/6d/34/987a076369ed086ee953e2f0b9ab5ff3e1a682ba4f781678ac5648144896/dartsclone-0.9.0-cp36-cp36m-manylinux1_x86_64.whl (474kB)\n",
      "\u001b[K     |████████████████████████████████| 481kB 20.2MB/s \n",
      "\u001b[?25hRequirement already satisfied: idna<3,>=2.5 in /usr/local/lib/python3.6/dist-packages (from requests<3.0.0,>=2.13.0->spacy<3.0.0,>=2.3.2->ginza) (2.10)\n",
      "Requirement already satisfied: certifi>=2017.4.17 in /usr/local/lib/python3.6/dist-packages (from requests<3.0.0,>=2.13.0->spacy<3.0.0,>=2.3.2->ginza) (2020.6.20)\n",
      "Requirement already satisfied: chardet<4,>=3.0.2 in /usr/local/lib/python3.6/dist-packages (from requests<3.0.0,>=2.13.0->spacy<3.0.0,>=2.3.2->ginza) (3.0.4)\n",
      "Requirement already satisfied: urllib3!=1.25.0,!=1.25.1,<1.26,>=1.21.1 in /usr/local/lib/python3.6/dist-packages (from requests<3.0.0,>=2.13.0->spacy<3.0.0,>=2.3.2->ginza) (1.24.3)\n",
      "Requirement already satisfied: importlib-metadata>=0.20; python_version < \"3.8\" in /usr/local/lib/python3.6/dist-packages (from catalogue<1.1.0,>=0.0.7->spacy<3.0.0,>=2.3.2->ginza) (1.7.0)\n",
      "Requirement already satisfied: Cython in /usr/local/lib/python3.6/dist-packages (from dartsclone~=0.9.0->SudachiPy>=0.4.9->ginza) (0.29.21)\n",
      "Requirement already satisfied: zipp>=0.5 in /usr/local/lib/python3.6/dist-packages (from importlib-metadata>=0.20; python_version < \"3.8\"->catalogue<1.1.0,>=0.0.7->spacy<3.0.0,>=2.3.2->ginza) (3.1.0)\n",
      "Building wheels for collected packages: ginza, ja-ginza, SudachiPy, SudachiDict-core\n",
      "  Building wheel for ginza (setup.py) ... \u001b[?25l\u001b[?25hdone\n",
      "  Created wheel for ginza: filename=ginza-4.0.0-cp36-none-any.whl size=15493 sha256=01b65a2a2b63287a3d8e194b26b12101bf194acb130edecdc3a317d35fa08a1f\n",
      "  Stored in directory: /root/.cache/pip/wheels/d1/72/7b/2e2396430fee86a30a88203e5fbe13ffe6417dfa7544bf1d58\n",
      "  Building wheel for ja-ginza (setup.py) ... \u001b[?25l\u001b[?25hdone\n",
      "  Created wheel for ja-ginza: filename=ja_ginza-4.0.0-cp36-none-any.whl size=51530814 sha256=61836ca99db4e4fbd0f963800cbb873026e0582b3dcf0a072fbae68ea4a0c7da\n",
      "  Stored in directory: /root/.cache/pip/wheels/28/5a/c0/95ac590b39eff99c77d729f284341d15a6903e4011d70ff421\n",
      "  Building wheel for SudachiPy (setup.py) ... \u001b[?25l\u001b[?25hdone\n",
      "  Created wheel for SudachiPy: filename=SudachiPy-0.4.9-cp36-cp36m-linux_x86_64.whl size=870437 sha256=68fdef6aaa1f096d09c43f0dd329c2a81e0a001db1bf2d4b96283e0fb637eaa3\n",
      "  Stored in directory: /root/.cache/pip/wheels/79/85/b4/bb2fbbf043bc8128a6cbb769604c410dc5ece89c88b7e57de0\n",
      "  Building wheel for SudachiDict-core (setup.py) ... \u001b[?25l\u001b[?25hdone\n",
      "  Created wheel for SudachiDict-core: filename=SudachiDict_core-20200722-cp36-none-any.whl size=71120192 sha256=313d9f9caada061310d2fcbc9ba62ca13b577826363a19e3b46f3cd45695eabb\n",
      "  Stored in directory: /root/.cache/pip/wheels/aa/79/cb/ee2ca7db8ba91560158dd4b1362ca1bcc1622541d476de5145\n",
      "Successfully built ginza ja-ginza SudachiPy SudachiDict-core\n",
      "Installing collected packages: thinc, spacy, ja-ginza, sortedcontainers, dartsclone, SudachiPy, SudachiDict-core, ginza\n",
      "  Found existing installation: thinc 7.4.0\n",
      "    Uninstalling thinc-7.4.0:\n",
      "      Successfully uninstalled thinc-7.4.0\n",
      "  Found existing installation: spacy 2.2.4\n",
      "    Uninstalling spacy-2.2.4:\n",
      "      Successfully uninstalled spacy-2.2.4\n",
      "  Found existing installation: sortedcontainers 2.2.2\n",
      "    Uninstalling sortedcontainers-2.2.2:\n",
      "      Successfully uninstalled sortedcontainers-2.2.2\n",
      "Successfully installed SudachiDict-core-20200722 SudachiPy-0.4.9 dartsclone-0.9.0 ginza-4.0.0 ja-ginza-4.0.0 sortedcontainers-2.1.0 spacy-2.3.2 thinc-7.4.1\n"
     ]
    }
   ],
   "source": [
    "!pip install ginza"
   ]
  },
  {
   "cell_type": "code",
   "execution_count": null,
   "metadata": {
    "colab": {},
    "colab_type": "code",
    "id": "46PcGevvnCqH"
   },
   "outputs": [],
   "source": []
  }
 ],
 "metadata": {
  "colab": {
   "collapsed_sections": [],
   "name": "spaCy.ipynb",
   "provenance": []
  },
  "kernelspec": {
   "display_name": "Python 3",
   "name": "python3"
  },
  "language_info": {
   "codemirror_mode": {
    "name": "ipython",
    "version": 3
   },
   "file_extension": ".py",
   "mimetype": "text/x-python",
   "name": "python",
   "nbconvert_exporter": "python",
   "pygments_lexer": "ipython3",
   "version": "3.7.5"
  }
 },
 "nbformat": 4,
 "nbformat_minor": 0
}